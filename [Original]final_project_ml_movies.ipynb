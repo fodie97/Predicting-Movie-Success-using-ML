{
 "cells": [
  {
   "cell_type": "markdown",
   "metadata": {},
   "source": [
    "**<ins>Predicting Movie Success:</ins> A Revenue Prediction Model Using Machine Learning**"
   ]
  },
  {
   "cell_type": "code",
   "execution_count": 1,
   "metadata": {},
   "outputs": [
    {
     "name": "stderr",
     "output_type": "stream",
     "text": [
      "/Library/Frameworks/Python.framework/Versions/3.11/lib/python3.11/site-packages/tqdm/auto.py:21: TqdmWarning: IProgress not found. Please update jupyter and ipywidgets. See https://ipywidgets.readthedocs.io/en/stable/user_install.html\n",
      "  from .autonotebook import tqdm as notebook_tqdm\n"
     ]
    }
   ],
   "source": [
    "import pandas_datareader.data as web\n",
    "import matplotlib.pyplot as plt\n",
    "import optuna.visualization as ov\n",
    "import yfinance as yf\n",
    "import pandas as pd\n",
    "import seaborn as sns\n",
    "import xgboost as xgb\n",
    "import plotly.express as px\n",
    "import pandas as pd\n",
    "import numpy as np\n",
    "import random\n",
    "import optuna\n",
    "import joblib\n",
    "import time\n",
    "import os\n",
    "\n",
    "from sklearn.metrics import r2_score, mean_squared_error, mean_absolute_error, accuracy_score, precision_score, recall_score, f1_score, roc_auc_score, roc_curve, confusion_matrix, ConfusionMatrixDisplay, accuracy_score, precision_score, recall_score\n",
    "from sklearn.ensemble import RandomForestClassifier, RandomForestRegressor, GradientBoostingRegressor, AdaBoostRegressor, HistGradientBoostingRegressor\n",
    "from optuna.visualization.matplotlib import plot_optimization_history, plot_param_importances, plot_parallel_coordinate, plot_contour\n",
    "from sklearn.preprocessing import StandardScaler, OneHotEncoder, MultiLabelBinarizer, LabelEncoder, MinMaxScaler\n",
    "from sklearn.model_selection import train_test_split, GridSearchCV, cross_val_score\n",
    "from sklearn.feature_selection import SelectKBest, f_regression\n",
    "from sklearn.tree import DecisionTreeRegressor\n",
    "from sklearn.preprocessing import FunctionTransformer\n",
    "from sklearn.linear_model import LogisticRegression\n",
    "from forex_python.converter import CurrencyRates\n",
    "from sklearn.compose import ColumnTransformer\n",
    "from catboost import CatBoostRegressor\n",
    "from sklearn.pipeline import Pipeline\n",
    "from lightgbm import LGBMRegressor\n",
    "from xgboost import XGBRegressor\n",
    "\n",
    "\n",
    "from sklearn.metrics import accuracy_score, classification_report\n",
    "from sklearn.base import BaseEstimator, TransformerMixin\n",
    "from sklearn.cluster import KMeans\n",
    "from datetime import datetime\n",
    "\n",
    "from collections import Counter"
   ]
  },
  {
   "cell_type": "markdown",
   "metadata": {},
   "source": [
    "In this notebook, we build on our initial exploratory data analysis (EDA) of the movie dataset, where we examined the relationships and patterns between various movie features and their impact on adjusted revenue. Here, we focus on designing and evaluating predictive models to forecast movie revenue, ultimately assessing a movie's potential Return on Investment (ROI) and commercial success.\n",
    "\n",
    "**Objectives:**\n",
    "\n",
    "1. **Feature Preparation and Transformation**: We utilize a preprocessed and feature-engineered dataset that incorporates insights gained from the EDA phase. This ensures consistent data transformations, allowing us to focus on model building and selection without revisiting data cleaning steps.\n",
    "\n",
    "2. **Model Selection and Evaluation**: A variety of machine learning models—including `RandomForest`, `GradientBoosting`, `CatBoost`, `LightGBM`, and `XGBoost`—are trained and evaluated to identify the most effective model for predicting `adjusted_revenue`. We assess each model based on cross-validation and test performance metrics to find a balance between accuracy and generalizability.\n",
    "\n",
    "3. **Feature Importance Analysis**: Using `SelectKBest` for feature selection, we identify which features have the most significant impact on revenue. This analysis not only optimizes the model by focusing on the most influential features but also provides insights for stakeholders into what factors are key drivers of movie revenue.\n",
    "\n",
    "4. **Prediction and Interpretation**: With the best-performing model identified, we interpret its predictions in a business context. Specifically, we analyze how budget, cast, and other factors influence revenue predictions, which can help guide decision-making for future movie investments and production strategies.\n",
    "\n",
    "**Why This Analysis Matters:**\n",
    "\n",
    "For investors and stakeholders in the film industry, understanding the factors that drive movie success is essential for maximizing ROI. By predicting revenue with a data-driven approach, we can prioritize budget allocations, casting choices, and release strategies that align with historical patterns of financial success. This notebook provides a roadmap for integrating machine learning insights into practical decisions, helping to minimize risks associated with high-stakes investments in the entertainment industry.\n"
   ]
  },
  {
   "cell_type": "code",
   "execution_count": 2,
   "metadata": {},
   "outputs": [],
   "source": [
    "# Load the dataset\n",
    "dataset_path = './data/TMDB_movies.csv'\n",
    "df = pd.read_csv(dataset_path, parse_dates=['release_date'])"
   ]
  },
  {
   "cell_type": "code",
   "execution_count": 3,
   "metadata": {},
   "outputs": [
    {
     "name": "stdout",
     "output_type": "stream",
     "text": [
      "There are 5,193 movies (rows) and 36 features (columns).\n"
     ]
    }
   ],
   "source": [
    "nRow, nCol = df.shape\n",
    "print(f'There are {nRow:,} movies (rows) and {nCol} features (columns).')"
   ]
  },
  {
   "cell_type": "code",
   "execution_count": 4,
   "metadata": {},
   "outputs": [
    {
     "name": "stdout",
     "output_type": "stream",
     "text": [
      "There are 5,193 movies (rows) and 36 features (columns).\n"
     ]
    }
   ],
   "source": [
    "nRow1, nCol1 = df.shape\n",
    "print(f'There are {nRow1:,} movies (rows) and {nCol1} features (columns).')"
   ]
  },
  {
   "cell_type": "code",
   "execution_count": 5,
   "metadata": {},
   "outputs": [
    {
     "data": {
      "text/plain": [
       "['adjusted_budget',\n",
       " 'adjusted_revenue',\n",
       " 'budget',\n",
       " 'cast',\n",
       " 'cpi',\n",
       " 'director',\n",
       " 'genres',\n",
       " 'imdb_id',\n",
       " 'imdb_rating',\n",
       " 'imdb_votes',\n",
       " 'is_weekend_release',\n",
       " 'music_composer',\n",
       " 'net_profit',\n",
       " 'normalized_imdb_rating',\n",
       " 'normalized_vote_average',\n",
       " 'original_language',\n",
       " 'popularity',\n",
       " 'producers',\n",
       " 'production_companies',\n",
       " 'production_countries',\n",
       " 'release_date',\n",
       " 'release_day_of_week',\n",
       " 'release_day_of_year',\n",
       " 'release_month',\n",
       " 'release_season',\n",
       " 'release_year',\n",
       " 'revenue',\n",
       " 'runtime',\n",
       " 'spoken_languages',\n",
       " 'status',\n",
       " 'time_since_release',\n",
       " 'title',\n",
       " 'title_length',\n",
       " 'vote_average',\n",
       " 'vote_count',\n",
       " 'writers']"
      ]
     },
     "execution_count": 5,
     "metadata": {},
     "output_type": "execute_result"
    }
   ],
   "source": [
    "sorted(list(df.columns))"
   ]
  },
  {
   "cell_type": "markdown",
   "metadata": {},
   "source": [
    "_____"
   ]
  },
  {
   "cell_type": "markdown",
   "metadata": {},
   "source": [
    "### Encoding Top Entities for Model Input\n",
    "\n",
    "Next, we apply two custom classes, `TopNEntitiesExtractor` and `CastFeatureEncoder`, to encode categorical features in a way that aligns with our goal of predicting movie revenue accurately:\n",
    "\n",
    "- **`TopNEntitiesExtractor`**: This class extracts the top N most frequent entities (e.g., genres, directors) across relevant columns, converting each into binary features that indicate whether a specific top entity is associated with each movie. This encoding approach ensures that only the most impactful entities are considered, making the model more efficient and focused on features with the highest potential influence on `adjusted_revenue`.\n",
    "\n",
    "- **`CastFeatureEncoder`**: Designed specifically for the `cast` column, this class encodes the top N cast members, adding a probabilistic element to reflect that certain cast members may not impact revenue uniformly across movies. This approach simulates real-world variability and avoids overstating the influence of any single actor, which is crucial for accurate revenue prediction.\n",
    "\n",
    "By using these classes, we prioritize high-impact contributors in each category, aligning feature engineering with our business goal of focusing on revenue-driving elements in movie data."
   ]
  },
  {
   "cell_type": "code",
   "execution_count": 6,
   "metadata": {},
   "outputs": [],
   "source": [
    "class TopNEntitiesExtractor(BaseEstimator, TransformerMixin):\n",
    "    def __init__(self, n=15):\n",
    "        self.n = n\n",
    "        self.top_entities = {}\n",
    "\n",
    "    def fit(self, X, y=None):\n",
    "        # For each column, determine the top N entities\n",
    "        for column in X.columns:\n",
    "            all_entities = X[column].apply(lambda x: [name.strip() for name in x.split(',')] if pd.notna(x) else []).values\n",
    "            flat_entities = [i for j in all_entities for i in j]\n",
    "            self.top_entities[column] = [name for name, _ in Counter(flat_entities).most_common(self.n)]\n",
    "        \n",
    "        return self\n",
    "\n",
    "    def transform(self, X):\n",
    "        X_transformed_list = []\n",
    "\n",
    "        for column in X.columns:\n",
    "            if column not in self.top_entities:\n",
    "                raise KeyError(f\"Column '{column}' is not in the fitted top_entities dictionary. Ensure the transformer is fitted properly.\")\n",
    "            \n",
    "            top_entities = self.top_entities[column]\n",
    "            extracted_entities = X[column].apply(lambda x: [entity for entity in x.split(',') if entity.strip() in top_entities] if pd.notna(x) else ['UNKNOWN'])\n",
    "\n",
    "            # Convert lists to comma-separated strings for OneHotEncoder compatibility\n",
    "            encoded_input = extracted_entities.apply(lambda entities: ','.join(entities) if entities else 'UNKNOWN')\n",
    "\n",
    "            encoded_array = np.zeros((X.shape[0], len(top_entities)))\n",
    "\n",
    "            for row_idx in range(X.shape[0]):\n",
    "                entity_list = encoded_input.iloc[row_idx]\n",
    "                if pd.notna(entity_list):\n",
    "                    for entity in entity_list.split(','):\n",
    "                        if entity in top_entities:\n",
    "                            entity_idx = top_entities.index(entity)\n",
    "                            encoded_array[row_idx, entity_idx] = 1\n",
    "\n",
    "            # Create DataFrame for encoded entities\n",
    "            encoded_df = pd.DataFrame(encoded_array, columns=[f\"{column}_{entity}\" for entity in top_entities], index=X.index)\n",
    "            X_transformed_list.append(encoded_df)\n",
    "\n",
    "        # Concatenate all encoded dataframes, maintaining index consistency\n",
    "        X_transformed = pd.concat(X_transformed_list, axis=1)\n",
    "\n",
    "        return X_transformed\n",
    "    def get_feature_names_out(self, input_features=None):\n",
    "        # Generate the feature names for the output DataFrame\n",
    "        feature_names = []\n",
    "        for column, entities in self.top_entities.items():\n",
    "            feature_names.extend([f\"{column}_{entity}\" for entity in entities])\n",
    "        return np.array(feature_names)\n",
    "\n",
    "class CastFeatureEncoder(BaseEstimator, TransformerMixin):\n",
    "    def __init__(self, n=15, test_size=0.2):\n",
    "        self.n = n\n",
    "        self.test_size = test_size\n",
    "        self.probability = 1 - test_size  # Probability to set encoded feature to 1 for cast column\n",
    "        self.top_entities = []\n",
    "\n",
    "    def fit(self, X, y=None):\n",
    "        # Expect X to be a DataFrame with a single column (cast)\n",
    "        # Flatten the list of entities and determine the top N entities\n",
    "        all_entities = X.iloc[:, 0].dropna().apply(lambda x: x.split(',')).sum()\n",
    "        flat_entities = [name.strip() for name in all_entities]\n",
    "        self.top_entities = [name for name, _ in Counter(flat_entities).most_common(self.n)]\n",
    "        \n",
    "        return self\n",
    "\n",
    "    def transform(self, X):\n",
    "        # Expect X to be a DataFrame with a single column (cast)\n",
    "        num_rows = X.shape[0]\n",
    "        encoded_array = np.zeros((num_rows, len(self.top_entities)))\n",
    "\n",
    "        # Fill in encoded_array ensuring that a proportion of features are set to 1 based on the probability\n",
    "        for row_idx, cast_list in enumerate(X.iloc[:, 0].fillna('').apply(lambda x: x.split(','))):\n",
    "            cast_list = [entity.strip() for entity in cast_list if entity.strip() in self.top_entities]\n",
    "            for entity in cast_list:\n",
    "                entity_idx = self.top_entities.index(entity)\n",
    "                # Set the feature to 1 with a probability equal to the required percentage (1 - test_size)\n",
    "                if random.random() < self.probability:\n",
    "                    encoded_array[row_idx, entity_idx] = 1\n",
    "\n",
    "        # Create DataFrame for encoded entities\n",
    "        encoded_df = pd.DataFrame(encoded_array, columns=[f\"cast_{entity}\" for entity in self.top_entities], index=X.index)\n",
    "        \n",
    "        return encoded_df\n",
    "    def get_feature_names_out(self, input_features=None):\n",
    "        # Generate feature names for each of the top entities in the cast column\n",
    "        return np.array([f\"cast_{entity}\" for entity in self.top_entities])\n"
   ]
  },
  {
   "cell_type": "markdown",
   "metadata": {},
   "source": [
    "### Defining and Preprocessing Categorical and Numerical Features\n",
    "\n",
    "In this step, we categorize features into sub-groups within categorical and numerical types to apply tailored transformations that align with the unique requirements of each group. This approach enhances our ability to effectively capture patterns in `adjusted_revenue` by processing each feature according to its specific characteristics.\n",
    "\n",
    "**Process**:\n",
    "1. **Feature Sub-Categorization**:\n",
    "   - **Categorical Features**: \n",
    "     - We split categorical features into **multi-entity fields** (e.g., `cast`, `director`, `genres`) and **single-entity date-related fields** (e.g., `release_season`, `release_day_of_week`). This distinction allows us to apply transformations suited to the complexity of each feature type.\n",
    "     - **Custom Classes**: \n",
    "       - **`CastFeatureEncoder`**: Encodes the top N cast members by probabilistically assigning binary indicators to account for high-dimensional and multi-entity nature of cast data.\n",
    "       - **`TopNEntitiesExtractor`**: Extracts the top N most frequent entities from fields like `genres` and `production_companies` to reduce dimensionality and focus the model on the most impactful entities.\n",
    "\n",
    "   - **Date Features**: Encodes temporal patterns by converting fields like `release_season` and `is_weekend_release` into binary indicators using `OneHotEncoder`.\n",
    "\n",
    "2. **Numerical Features**:\n",
    "   - We further divide numerical features to account for their different properties:\n",
    "     - **Standard Numerical Features** (e.g., `popularity`, `runtime`) undergo **MinMax scaling** to ensure a consistent range, which is particularly beneficial for tree-based models.\n",
    "     - **Direct Pass-through Features** (`adjusted_budget`, `title_length`, `normalized_imdb_rating`, `normalized_vote_average`): These are directly passed to the model without scaling, as they represent metrics with intuitive scales or are already normalized.\n",
    "\n",
    "3. **Pipeline Integration**:\n",
    "   - We integrate each of these transformations into a single **ColumnTransformer**, which processes each feature group appropriately. This comprehensive preprocessing pipeline ensures that the model receives data in the optimal format for learning patterns relevant to predicting `adjusted_revenue`.\n",
    "\n",
    "By applying distinct transformations to each sub-category, we effectively capture the unique aspects of each feature type, thereby enhancing the model’s ability to learn and generalize from complex, multi-dimensional movie data."
   ]
  },
  {
   "cell_type": "code",
   "execution_count": 7,
   "metadata": {},
   "outputs": [],
   "source": [
    "## Define categorical and numerical features\n",
    "#Custom Classes\n",
    "cast_feature = ['cast']\n",
    "other_categorical_features = ['director', 'genres', 'music_composer', 'original_language', 'producers', 'production_companies', 'production_countries', 'spoken_languages', 'writers']\n",
    "#OneHot\n",
    "date_features = ['release_season', 'release_month', 'release_day_of_week', 'release_day_of_year', 'is_weekend_release']\n",
    "\n",
    "numerical_features = ['popularity', 'runtime']\n",
    "adjusted_budget_feature = ['adjusted_budget']\n",
    "other_numerical_features = ['title_length', 'normalized_imdb_rating', 'normalized_vote_average']\n",
    "\n",
    "\n",
    "all_features = cast_feature + other_categorical_features + date_features + numerical_features + adjusted_budget_feature + other_numerical_features\n",
    "# Custom transformers\n",
    "cast_encoder = CastFeatureEncoder(n=15, test_size=0.2)\n",
    "other_categorical_encoder = TopNEntitiesExtractor(n=15)\n",
    "\n",
    "# Pipeline for date-related categorical features (OneHotEncoder for date features)\n",
    "date_pipeline = Pipeline(steps=[\n",
    "    ('onehot', OneHotEncoder(handle_unknown='ignore', sparse_output=False))  # Ensure dense output for date features\n",
    "])\n",
    "\n",
    "# Pipeline for numerical features (MinMaxScaler for numerical features like 'popularity' and 'runtime')\n",
    "numerical_pipeline = Pipeline(steps=[\n",
    "    ('scaler', MinMaxScaler())  # Apply MinMaxScaler to numerical features\n",
    "])\n",
    "\n",
    "# Combine all preprocessing steps into a single ColumnTransformer\n",
    "preprocessor = ColumnTransformer(transformers=[\n",
    "    ('cast', cast_encoder, cast_feature),                        # Custom encoding for 'cast'\n",
    "    ('cat', other_categorical_encoder, other_categorical_features),  # Custom encoding for other categorical features\n",
    "    ('date', date_pipeline, date_features),                    # One-hot encoding for date-related features\n",
    "    ('num', numerical_pipeline, numerical_features),             # MinMax scaling for numerical features ('popularity', 'runtime')\n",
    "    ('adjusted_budget', 'passthrough', adjusted_budget_feature),  # Pass-through for adjusted_budget\n",
    "    ('other_num', 'passthrough', other_numerical_features)         # Pass-through for other numerical features\n",
    "])"
   ]
  },
  {
   "cell_type": "markdown",
   "metadata": {},
   "source": [
    "### Model Selection and Evaluation\n",
    "\n",
    "In this section, we evaluate six tree-based machine learning models—`RandomForest`, `GradientBoosting`, `HistGradientBoosting`, `CatBoost`, `LightGBM`, and `XGBoost`—to identify the best model for predicting `adjusted_revenue`.\n",
    "\n",
    "**Process and Justification**:\n",
    "\n",
    "1. **Data Split**: The data is split 80/20 into training and test sets to evaluate model generalization on unseen data.\n",
    "\n",
    "2. **Why Tree-Based Models?**: Tree-based models are particularly suited for our use case due to the following:\n",
    "   - **High Dimensionality**: Our dataset includes numerous categorical and numerical features, many of which contain multiple entities (e.g., `cast` and `genres`). Tree-based models handle high-dimensional data well by automatically selecting and prioritizing the most relevant features at each split.\n",
    "   - **Complex Interactions**: Revenue prediction depends on various non-linear relationships between features like budget, cast, and genres. Tree-based models excel in capturing these intricate interactions, making them ideal for handling our dataset’s multidimensional nature.\n",
    "   - **Custom Encoding of Entities**: We used custom classes to transform categorical features with multiple entities into binary indicators, significantly increasing feature dimensionality. Tree-based models effectively manage these binary-encoded features, capturing each entity’s unique contribution to revenue without requiring complex scaling or additional preprocessing steps.\n",
    "\n",
    "3. **Model Iteration**:\n",
    "   - Each model undergoes 5-fold cross-validation on the training set, yielding a mean R² score that indicates model stability and consistency across different subsets.\n",
    "   - We evaluate R², MSE, RMSE, MAE, F1-Score, and AUC on the test set to gain a comprehensive view of each model’s predictive power, error metrics, and classification-style performance for high-revenue predictions.\n",
    "\n",
    "4. **Best Model Selection**: We select the model with the highest mean cross-validation R² and the smallest difference between mean CV R² and test R². This dual criterion ensures we choose a model that not only performs well on unseen data but also exhibits stability, indicating it’s less likely to overfit to the training set.\n",
    "\n",
    "By iterating through and evaluating multiple tree-based models with these criteria, we ensure that the selected model captures the high-dimensional, entity-driven nature of our data, enabling reliable, data-informed revenue predictions to support strategic movie investment decisions."
   ]
  },
  {
   "cell_type": "code",
   "execution_count": 8,
   "metadata": {},
   "outputs": [],
   "source": [
    "# # Step 1: Define models for iteration\n",
    "# models = {\n",
    "#     'RandomForest': RandomForestRegressor(random_state=42),\n",
    "#     'GradientBoosting': GradientBoostingRegressor(random_state=42),\n",
    "#     'HistGradientBoosting': HistGradientBoostingRegressor(random_state=42),\n",
    "#     'CatBoost': CatBoostRegressor(random_state=42, verbose=0),\n",
    "#     'LightGBM': LGBMRegressor(random_state=42),\n",
    "#     'XGBoost': XGBRegressor(random_state=42)\n",
    "# }\n",
    "\n",
    "# best_model = None\n",
    "# best_r2_score = -np.inf\n",
    "# best_model_name = \"\"\n",
    "# results = []\n",
    "# model_params = []\n",
    "\n",
    "# X = df[all_features]\n",
    "# y = df['adjusted_revenue']\n",
    "\n",
    "# # Step 2: Splitting data\n",
    "# X_train, X_test, y_train, y_test = train_test_split(X, y, test_size=0.2, random_state=42)\n",
    "\n",
    "# # Step 3: Model iteration and cross-validation\n",
    "# for model_name, model in models.items():\n",
    "#     print(f\"Evaluating model: {model_name}\")\n",
    "#     pipeline = Pipeline(steps=[\n",
    "#         ('preprocessor', preprocessor),\n",
    "#         ('model', model)\n",
    "#     ])\n",
    "    \n",
    "#     # Cross-validation\n",
    "#     cv_scores = cross_val_score(pipeline, X_train, y_train, cv=5, scoring='r2')\n",
    "#     mean_cv_score = np.mean(cv_scores)\n",
    "#     print(f\"Cross-validation R^2 scores for {model_name}: {cv_scores}\")\n",
    "#     print(f\"Mean cross-validation R^2 score for {model_name}: {mean_cv_score:.4f}\\n\")\n",
    "    \n",
    "#     # Track the best model\n",
    "#     if mean_cv_score > best_r2_score:\n",
    "#         best_r2_score = mean_cv_score\n",
    "#         best_model = model\n",
    "#         best_model_name = model_name\n",
    "    \n",
    "#     # Evaluate model on test set (without hyperparameter tuning)\n",
    "#     pipeline.fit(X_train, y_train)\n",
    "#     y_pred = pipeline.predict(X_test)\n",
    "#     r2_score_test = pipeline.score(X_test, y_test)\n",
    "#     mse = mean_squared_error(y_test, y_pred)\n",
    "#     mae = mean_absolute_error(y_test, y_pred)\n",
    "#     rmse = np.sqrt(mse)\n",
    "#     f1 = f1_score(y_test > y_test.mean(), y_pred > y_pred.mean())  # Using threshold for classification-style metric\n",
    "#     auc = roc_auc_score(y_test > y_test.mean(), y_pred > y_pred.mean())\n",
    "    \n",
    "#     # Store results for each model\n",
    "#     accuracy = np.mean(y_test == y_pred.round())  # Calculate accuracy for regression-based classification\n",
    "#     results.append({\n",
    "#         'Model': model_name,\n",
    "#         'Mean CV R^2': mean_cv_score,\n",
    "#         'Test R^2': r2_score_test,\n",
    "#         'Test MSE': mse,\n",
    "#         'Test RMSE': rmse,\n",
    "#         'Test MAE': mae,\n",
    "#         'Test F1-Score': f1,\n",
    "#         'Test AUC': auc,\n",
    "#         'Accuracy': accuracy,\n",
    "#         'Cross-validation R^2 scores': cv_scores\n",
    "#     })\n",
    "    \n",
    "#     # Store model parameters\n",
    "#     model_params.append({\n",
    "#         'Model': model_name,\n",
    "#         'Parameters': model.get_params()\n",
    "#     })\n",
    "\n",
    "#     # Save the fitted pipeline to disk for the current model\n",
    "#     pipeline_filename = f'./data/{model_name.lower()}_pipeline.pkl'\n",
    "#     joblib.dump(pipeline, pipeline_filename)\n",
    "#     print(f\"{model_name} pipeline saved successfully.\")\n",
    "\n",
    "# # Step 4: Create a DataFrame from the results\n",
    "# results_df = pd.DataFrame(results)\n",
    "\n",
    "# # Step 4.1: Plot train vs test scores for each model\n",
    "# for result in results:\n",
    "#     model_name = result['Model']\n",
    "#     plt.figure(figsize=(8, 5))\n",
    "#     plt.plot(range(1, 6), result['Cross-validation R^2 scores'], marker='o', linestyle='-', label=f'Train CV Scores ({model_name})')\n",
    "#     plt.axhline(y=result['Test R^2'], color='r', linestyle='--', label='Test Score')\n",
    "#     plt.title(f'Train vs Test Scores for {model_name}')\n",
    "#     plt.xlabel('Cross-Validation Fold')\n",
    "#     plt.ylabel('R² Score')\n",
    "#     plt.legend()\n",
    "#     plt.grid(True)\n",
    "#     plt.tight_layout()\n",
    "#     plt.savefig(f'./data/{model_name.lower()}_train_vs_test_plot.png')\n",
    "#     plt.show()\n",
    "# print(results_df)\n",
    "\n",
    "# # Save the results to a CSV file\n",
    "# results_df.to_csv('./data/model_evaluation_results.csv', index=False)\n",
    "# print(\"Model evaluation results saved successfully.\")\n",
    "\n",
    "# # Step 5: Save model parameters to a CSV file\n",
    "# model_params_df = pd.DataFrame(model_params)\n",
    "# model_params_df.to_csv('./data/model_parameters.csv', index=False)\n",
    "# print(\"Model parameters saved successfully.\")\n"
   ]
  },
  {
   "cell_type": "markdown",
   "metadata": {},
   "source": [
    ">*Observation:*  \n",
    "> - **`RandomForest`** achieved a high mean CV R² score of `0.701` with a close Test R² of `0.649`, indicating stable performance between training and test sets. The relatively small difference between the CV and Test R² suggests low overfitting and reliable generalization on unseen data.\n",
    "> - **`GradientBoosting`** and **`CatBoost`** also performed well, with mean CV R² scores of `0.700` and `0.709`, respectively. However, both models showed slightly larger discrepancies between CV R² and Test R² compared to `RandomForest`, indicating they may be more prone to slight overfitting or variability across test samples.\n",
    "> - **`HistGradientBoosting`**, **`LightGBM`**, and **`XGBoost`** scored lower on Test R² (around `0.59–0.60`), showing higher `MSE` and `RMSE` values, suggesting these models struggle to capture the full complexity of the revenue prediction task in this dataset.\n",
    "> - In terms of **Test `MSE` and `RMSE`**, `GradientBoosting` achieved the lowest values (Test MSE of `1.61e+16` and Test RMSE of `1.27e+08`), followed closely by `CatBoost` and `RandomForest`, reinforcing these models' ability to make precise predictions.\n",
    "> - **F1-Score** and **AUC** metrics were highest for `RandomForest` and `LightGBM`, with Test AUC values around `0.855`, highlighting their ability to distinguish high-revenue movies effectively.\n",
    ">  \n",
    "> - **Conclusion**: Given its balance of high Test `R²`, low difference between CV and Test `R²`, and competitive performance on error metrics, **`RandomForest`** stands out as the most robust model for predicting movie revenue. This model’s stability makes it suitable for business decisions, providing reliable revenue forecasts that align well with training insights while minimizing the risk of overfitting."
   ]
  },
  {
   "cell_type": "code",
   "execution_count": 9,
   "metadata": {},
   "outputs": [],
   "source": [
    "# # Allow user to select the best model by loading its pipeline\n",
    "# selected_model_name = input(f\"Please select the best model from {list(models.keys())}: \")\n",
    "# # Load the saved pipeline of the selected model to proceed with further analysis\n",
    "# pipeline_filename = f'./data/{selected_model_name.lower()}_pipeline.pkl'\n",
    "# loaded_pipeline = joblib.load(pipeline_filename)\n",
    "# print(f\"{selected_model_name} pipeline loaded successfully.\")\n",
    "# selected_model = loaded_pipeline.named_steps['model']"
   ]
  },
  {
   "cell_type": "markdown",
   "metadata": {},
   "source": [
    "### Loading the Best Model Pipeline\n",
    "\n",
    "To avoid re-running model selection, we previously exported the best-performing pipeline (`randomforest_pipeline.pkl`). Here, we load this pipeline, which includes all preprocessing steps and model settings, allowing us to proceed directly with consistent predictions without retraining."
   ]
  },
  {
   "cell_type": "code",
   "execution_count": 13,
   "metadata": {},
   "outputs": [
    {
     "name": "stdout",
     "output_type": "stream",
     "text": [
      "Optimized RF pipeline loaded successfully.\n"
     ]
    }
   ],
   "source": [
    "X = df[all_features]\n",
    "y = df['adjusted_revenue']\n",
    "\n",
    "X_train, X_test, y_train, y_test = train_test_split(X, y, test_size=0.2, random_state=42)\n",
    "\n",
    "loaded_pipeline = joblib.load('./data/randomforest_pipeline.pkl')\n",
    "pipeline_loaded = loaded_pipeline  # Assign the loaded pipeline\n",
    "print(\"Optimized RF pipeline loaded successfully.\")"
   ]
  },
  {
   "cell_type": "markdown",
   "metadata": {},
   "source": [
    "### Model Performance Evaluation and Export of Metrics\n",
    "\n",
    "We evaluate the loaded `RandomForest` pipeline's performance on both training and test sets using key metrics:\n",
    "\n",
    "- **Metrics Computed**:\n",
    "  - `R^2` Score: Indicates the proportion of variance explained by the model.\n",
    "  - `MAE` and `MSE`: Provide error magnitudes, with `RMSE` showing root mean squared error for scale-aware accuracy.\n",
    "  - `MAPE`: Calculates the percentage error, helpful for understanding relative prediction accuracy.\n",
    "\n",
    "- **Output**: \n",
    "  - Metrics are printed for quick review and saved to a `score.txt` file in the `out` directory for record-keeping and further analysis. This step ensures reproducibility and easy access to model evaluation results."
   ]
  },
  {
   "cell_type": "code",
   "execution_count": 14,
   "metadata": {},
   "outputs": [
    {
     "name": "stdout",
     "output_type": "stream",
     "text": [
      "Train R^2 Score: 0.9562\n",
      "Test R^2 Score: 0.6470\n",
      "Train MAE: 25927757.0157\n",
      "Test MAE: 63427186.1927\n",
      "Train RMSE: 58045691.7243\n",
      "Test RMSE: 127844099.0987\n",
      "Metrics have been written to out/score.txt\n"
     ]
    }
   ],
   "source": [
    "import os\n",
    "import numpy as np\n",
    "from sklearn.metrics import r2_score, mean_absolute_error, mean_squared_error\n",
    "\n",
    "# Predict on train and test data\n",
    "y_pred_train = loaded_pipeline.predict(X_train)\n",
    "y_pred_test = loaded_pipeline.predict(X_test)\n",
    "\n",
    "# Compute R^2 scores\n",
    "train_r2 = r2_score(y_train, y_pred_train)\n",
    "test_r2 = r2_score(y_test, y_pred_test)\n",
    "\n",
    "# Compute Mean Absolute Error (MAE)\n",
    "train_mae = mean_absolute_error(y_train, y_pred_train)\n",
    "test_mae = mean_absolute_error(y_test, y_pred_test)\n",
    "\n",
    "# Compute Mean Squared Error (MSE)\n",
    "train_mse = mean_squared_error(y_train, y_pred_train)\n",
    "test_mse = mean_squared_error(y_test, y_pred_test)\n",
    "\n",
    "# Compute Root Mean Squared Error (RMSE)\n",
    "train_rmse = np.sqrt(train_mse)\n",
    "test_rmse = np.sqrt(test_mse)\n",
    "\n",
    "# Compute Mean Absolute Percentage Error (MAPE)\n",
    "train_mape = np.mean(np.abs((y_train - y_pred_train) / y_train)) * 100\n",
    "test_mape = np.mean(np.abs((y_test - y_pred_test) / y_test)) * 100\n",
    "\n",
    "# Print metrics\n",
    "print(f\"Train R^2 Score: {train_r2:.4f}\")\n",
    "print(f\"Test R^2 Score: {test_r2:.4f}\")\n",
    "print(f\"Train MAE: {train_mae:.4f}\")\n",
    "print(f\"Test MAE: {test_mae:.4f}\")\n",
    "print(f\"Train RMSE: {train_rmse:.4f}\")\n",
    "print(f\"Test RMSE: {test_rmse:.4f}\")\n",
    "\n",
    "\n",
    "# Ensure the output directory exists\n",
    "output_dir = 'out'\n",
    "os.makedirs(output_dir, exist_ok=True)\n",
    "\n",
    "# Write metrics to a file\n",
    "output_file_path = os.path.join(output_dir, 'score.txt')\n",
    "with open(output_file_path, 'w') as file:\n",
    "    file.write(f\"Train R^2 Score: {train_r2:.4f}\\n\")\n",
    "    file.write(f\"Test R^2 Score: {test_r2:.4f}\\n\")\n",
    "    file.write(f\"Train MAE: {train_mae:.4f}\\n\")\n",
    "    file.write(f\"Test MAE: {test_mae:.4f}\\n\")\n",
    "    file.write(f\"Train RMSE: {train_rmse:.4f}\\n\")\n",
    "    file.write(f\"Test RMSE: {test_rmse:.4f}\\n\")\n",
    "    file.write(f\"Train MAPE: {train_mape:.2f}\\n\")\n",
    "    file.write(f\"Test MAPE: {test_mape:.2f}\\n\")\n",
    "\n",
    "print(f\"Metrics have been written to {output_file_path}\")"
   ]
  },
  {
   "cell_type": "code",
   "execution_count": 15,
   "metadata": {},
   "outputs": [
    {
     "data": {
      "text/html": [
       "<style>#sk-container-id-1 {\n",
       "  /* Definition of color scheme common for light and dark mode */\n",
       "  --sklearn-color-text: black;\n",
       "  --sklearn-color-line: gray;\n",
       "  /* Definition of color scheme for unfitted estimators */\n",
       "  --sklearn-color-unfitted-level-0: #fff5e6;\n",
       "  --sklearn-color-unfitted-level-1: #f6e4d2;\n",
       "  --sklearn-color-unfitted-level-2: #ffe0b3;\n",
       "  --sklearn-color-unfitted-level-3: chocolate;\n",
       "  /* Definition of color scheme for fitted estimators */\n",
       "  --sklearn-color-fitted-level-0: #f0f8ff;\n",
       "  --sklearn-color-fitted-level-1: #d4ebff;\n",
       "  --sklearn-color-fitted-level-2: #b3dbfd;\n",
       "  --sklearn-color-fitted-level-3: cornflowerblue;\n",
       "\n",
       "  /* Specific color for light theme */\n",
       "  --sklearn-color-text-on-default-background: var(--sg-text-color, var(--theme-code-foreground, var(--jp-content-font-color1, black)));\n",
       "  --sklearn-color-background: var(--sg-background-color, var(--theme-background, var(--jp-layout-color0, white)));\n",
       "  --sklearn-color-border-box: var(--sg-text-color, var(--theme-code-foreground, var(--jp-content-font-color1, black)));\n",
       "  --sklearn-color-icon: #696969;\n",
       "\n",
       "  @media (prefers-color-scheme: dark) {\n",
       "    /* Redefinition of color scheme for dark theme */\n",
       "    --sklearn-color-text-on-default-background: var(--sg-text-color, var(--theme-code-foreground, var(--jp-content-font-color1, white)));\n",
       "    --sklearn-color-background: var(--sg-background-color, var(--theme-background, var(--jp-layout-color0, #111)));\n",
       "    --sklearn-color-border-box: var(--sg-text-color, var(--theme-code-foreground, var(--jp-content-font-color1, white)));\n",
       "    --sklearn-color-icon: #878787;\n",
       "  }\n",
       "}\n",
       "\n",
       "#sk-container-id-1 {\n",
       "  color: var(--sklearn-color-text);\n",
       "}\n",
       "\n",
       "#sk-container-id-1 pre {\n",
       "  padding: 0;\n",
       "}\n",
       "\n",
       "#sk-container-id-1 input.sk-hidden--visually {\n",
       "  border: 0;\n",
       "  clip: rect(1px 1px 1px 1px);\n",
       "  clip: rect(1px, 1px, 1px, 1px);\n",
       "  height: 1px;\n",
       "  margin: -1px;\n",
       "  overflow: hidden;\n",
       "  padding: 0;\n",
       "  position: absolute;\n",
       "  width: 1px;\n",
       "}\n",
       "\n",
       "#sk-container-id-1 div.sk-dashed-wrapped {\n",
       "  border: 1px dashed var(--sklearn-color-line);\n",
       "  margin: 0 0.4em 0.5em 0.4em;\n",
       "  box-sizing: border-box;\n",
       "  padding-bottom: 0.4em;\n",
       "  background-color: var(--sklearn-color-background);\n",
       "}\n",
       "\n",
       "#sk-container-id-1 div.sk-container {\n",
       "  /* jupyter's `normalize.less` sets `[hidden] { display: none; }`\n",
       "     but bootstrap.min.css set `[hidden] { display: none !important; }`\n",
       "     so we also need the `!important` here to be able to override the\n",
       "     default hidden behavior on the sphinx rendered scikit-learn.org.\n",
       "     See: https://github.com/scikit-learn/scikit-learn/issues/21755 */\n",
       "  display: inline-block !important;\n",
       "  position: relative;\n",
       "}\n",
       "\n",
       "#sk-container-id-1 div.sk-text-repr-fallback {\n",
       "  display: none;\n",
       "}\n",
       "\n",
       "div.sk-parallel-item,\n",
       "div.sk-serial,\n",
       "div.sk-item {\n",
       "  /* draw centered vertical line to link estimators */\n",
       "  background-image: linear-gradient(var(--sklearn-color-text-on-default-background), var(--sklearn-color-text-on-default-background));\n",
       "  background-size: 2px 100%;\n",
       "  background-repeat: no-repeat;\n",
       "  background-position: center center;\n",
       "}\n",
       "\n",
       "/* Parallel-specific style estimator block */\n",
       "\n",
       "#sk-container-id-1 div.sk-parallel-item::after {\n",
       "  content: \"\";\n",
       "  width: 100%;\n",
       "  border-bottom: 2px solid var(--sklearn-color-text-on-default-background);\n",
       "  flex-grow: 1;\n",
       "}\n",
       "\n",
       "#sk-container-id-1 div.sk-parallel {\n",
       "  display: flex;\n",
       "  align-items: stretch;\n",
       "  justify-content: center;\n",
       "  background-color: var(--sklearn-color-background);\n",
       "  position: relative;\n",
       "}\n",
       "\n",
       "#sk-container-id-1 div.sk-parallel-item {\n",
       "  display: flex;\n",
       "  flex-direction: column;\n",
       "}\n",
       "\n",
       "#sk-container-id-1 div.sk-parallel-item:first-child::after {\n",
       "  align-self: flex-end;\n",
       "  width: 50%;\n",
       "}\n",
       "\n",
       "#sk-container-id-1 div.sk-parallel-item:last-child::after {\n",
       "  align-self: flex-start;\n",
       "  width: 50%;\n",
       "}\n",
       "\n",
       "#sk-container-id-1 div.sk-parallel-item:only-child::after {\n",
       "  width: 0;\n",
       "}\n",
       "\n",
       "/* Serial-specific style estimator block */\n",
       "\n",
       "#sk-container-id-1 div.sk-serial {\n",
       "  display: flex;\n",
       "  flex-direction: column;\n",
       "  align-items: center;\n",
       "  background-color: var(--sklearn-color-background);\n",
       "  padding-right: 1em;\n",
       "  padding-left: 1em;\n",
       "}\n",
       "\n",
       "\n",
       "/* Toggleable style: style used for estimator/Pipeline/ColumnTransformer box that is\n",
       "clickable and can be expanded/collapsed.\n",
       "- Pipeline and ColumnTransformer use this feature and define the default style\n",
       "- Estimators will overwrite some part of the style using the `sk-estimator` class\n",
       "*/\n",
       "\n",
       "/* Pipeline and ColumnTransformer style (default) */\n",
       "\n",
       "#sk-container-id-1 div.sk-toggleable {\n",
       "  /* Default theme specific background. It is overwritten whether we have a\n",
       "  specific estimator or a Pipeline/ColumnTransformer */\n",
       "  background-color: var(--sklearn-color-background);\n",
       "}\n",
       "\n",
       "/* Toggleable label */\n",
       "#sk-container-id-1 label.sk-toggleable__label {\n",
       "  cursor: pointer;\n",
       "  display: block;\n",
       "  width: 100%;\n",
       "  margin-bottom: 0;\n",
       "  padding: 0.5em;\n",
       "  box-sizing: border-box;\n",
       "  text-align: center;\n",
       "}\n",
       "\n",
       "#sk-container-id-1 label.sk-toggleable__label-arrow:before {\n",
       "  /* Arrow on the left of the label */\n",
       "  content: \"▸\";\n",
       "  float: left;\n",
       "  margin-right: 0.25em;\n",
       "  color: var(--sklearn-color-icon);\n",
       "}\n",
       "\n",
       "#sk-container-id-1 label.sk-toggleable__label-arrow:hover:before {\n",
       "  color: var(--sklearn-color-text);\n",
       "}\n",
       "\n",
       "/* Toggleable content - dropdown */\n",
       "\n",
       "#sk-container-id-1 div.sk-toggleable__content {\n",
       "  max-height: 0;\n",
       "  max-width: 0;\n",
       "  overflow: hidden;\n",
       "  text-align: left;\n",
       "  /* unfitted */\n",
       "  background-color: var(--sklearn-color-unfitted-level-0);\n",
       "}\n",
       "\n",
       "#sk-container-id-1 div.sk-toggleable__content.fitted {\n",
       "  /* fitted */\n",
       "  background-color: var(--sklearn-color-fitted-level-0);\n",
       "}\n",
       "\n",
       "#sk-container-id-1 div.sk-toggleable__content pre {\n",
       "  margin: 0.2em;\n",
       "  border-radius: 0.25em;\n",
       "  color: var(--sklearn-color-text);\n",
       "  /* unfitted */\n",
       "  background-color: var(--sklearn-color-unfitted-level-0);\n",
       "}\n",
       "\n",
       "#sk-container-id-1 div.sk-toggleable__content.fitted pre {\n",
       "  /* unfitted */\n",
       "  background-color: var(--sklearn-color-fitted-level-0);\n",
       "}\n",
       "\n",
       "#sk-container-id-1 input.sk-toggleable__control:checked~div.sk-toggleable__content {\n",
       "  /* Expand drop-down */\n",
       "  max-height: 200px;\n",
       "  max-width: 100%;\n",
       "  overflow: auto;\n",
       "}\n",
       "\n",
       "#sk-container-id-1 input.sk-toggleable__control:checked~label.sk-toggleable__label-arrow:before {\n",
       "  content: \"▾\";\n",
       "}\n",
       "\n",
       "/* Pipeline/ColumnTransformer-specific style */\n",
       "\n",
       "#sk-container-id-1 div.sk-label input.sk-toggleable__control:checked~label.sk-toggleable__label {\n",
       "  color: var(--sklearn-color-text);\n",
       "  background-color: var(--sklearn-color-unfitted-level-2);\n",
       "}\n",
       "\n",
       "#sk-container-id-1 div.sk-label.fitted input.sk-toggleable__control:checked~label.sk-toggleable__label {\n",
       "  background-color: var(--sklearn-color-fitted-level-2);\n",
       "}\n",
       "\n",
       "/* Estimator-specific style */\n",
       "\n",
       "/* Colorize estimator box */\n",
       "#sk-container-id-1 div.sk-estimator input.sk-toggleable__control:checked~label.sk-toggleable__label {\n",
       "  /* unfitted */\n",
       "  background-color: var(--sklearn-color-unfitted-level-2);\n",
       "}\n",
       "\n",
       "#sk-container-id-1 div.sk-estimator.fitted input.sk-toggleable__control:checked~label.sk-toggleable__label {\n",
       "  /* fitted */\n",
       "  background-color: var(--sklearn-color-fitted-level-2);\n",
       "}\n",
       "\n",
       "#sk-container-id-1 div.sk-label label.sk-toggleable__label,\n",
       "#sk-container-id-1 div.sk-label label {\n",
       "  /* The background is the default theme color */\n",
       "  color: var(--sklearn-color-text-on-default-background);\n",
       "}\n",
       "\n",
       "/* On hover, darken the color of the background */\n",
       "#sk-container-id-1 div.sk-label:hover label.sk-toggleable__label {\n",
       "  color: var(--sklearn-color-text);\n",
       "  background-color: var(--sklearn-color-unfitted-level-2);\n",
       "}\n",
       "\n",
       "/* Label box, darken color on hover, fitted */\n",
       "#sk-container-id-1 div.sk-label.fitted:hover label.sk-toggleable__label.fitted {\n",
       "  color: var(--sklearn-color-text);\n",
       "  background-color: var(--sklearn-color-fitted-level-2);\n",
       "}\n",
       "\n",
       "/* Estimator label */\n",
       "\n",
       "#sk-container-id-1 div.sk-label label {\n",
       "  font-family: monospace;\n",
       "  font-weight: bold;\n",
       "  display: inline-block;\n",
       "  line-height: 1.2em;\n",
       "}\n",
       "\n",
       "#sk-container-id-1 div.sk-label-container {\n",
       "  text-align: center;\n",
       "}\n",
       "\n",
       "/* Estimator-specific */\n",
       "#sk-container-id-1 div.sk-estimator {\n",
       "  font-family: monospace;\n",
       "  border: 1px dotted var(--sklearn-color-border-box);\n",
       "  border-radius: 0.25em;\n",
       "  box-sizing: border-box;\n",
       "  margin-bottom: 0.5em;\n",
       "  /* unfitted */\n",
       "  background-color: var(--sklearn-color-unfitted-level-0);\n",
       "}\n",
       "\n",
       "#sk-container-id-1 div.sk-estimator.fitted {\n",
       "  /* fitted */\n",
       "  background-color: var(--sklearn-color-fitted-level-0);\n",
       "}\n",
       "\n",
       "/* on hover */\n",
       "#sk-container-id-1 div.sk-estimator:hover {\n",
       "  /* unfitted */\n",
       "  background-color: var(--sklearn-color-unfitted-level-2);\n",
       "}\n",
       "\n",
       "#sk-container-id-1 div.sk-estimator.fitted:hover {\n",
       "  /* fitted */\n",
       "  background-color: var(--sklearn-color-fitted-level-2);\n",
       "}\n",
       "\n",
       "/* Specification for estimator info (e.g. \"i\" and \"?\") */\n",
       "\n",
       "/* Common style for \"i\" and \"?\" */\n",
       "\n",
       ".sk-estimator-doc-link,\n",
       "a:link.sk-estimator-doc-link,\n",
       "a:visited.sk-estimator-doc-link {\n",
       "  float: right;\n",
       "  font-size: smaller;\n",
       "  line-height: 1em;\n",
       "  font-family: monospace;\n",
       "  background-color: var(--sklearn-color-background);\n",
       "  border-radius: 1em;\n",
       "  height: 1em;\n",
       "  width: 1em;\n",
       "  text-decoration: none !important;\n",
       "  margin-left: 1ex;\n",
       "  /* unfitted */\n",
       "  border: var(--sklearn-color-unfitted-level-1) 1pt solid;\n",
       "  color: var(--sklearn-color-unfitted-level-1);\n",
       "}\n",
       "\n",
       ".sk-estimator-doc-link.fitted,\n",
       "a:link.sk-estimator-doc-link.fitted,\n",
       "a:visited.sk-estimator-doc-link.fitted {\n",
       "  /* fitted */\n",
       "  border: var(--sklearn-color-fitted-level-1) 1pt solid;\n",
       "  color: var(--sklearn-color-fitted-level-1);\n",
       "}\n",
       "\n",
       "/* On hover */\n",
       "div.sk-estimator:hover .sk-estimator-doc-link:hover,\n",
       ".sk-estimator-doc-link:hover,\n",
       "div.sk-label-container:hover .sk-estimator-doc-link:hover,\n",
       ".sk-estimator-doc-link:hover {\n",
       "  /* unfitted */\n",
       "  background-color: var(--sklearn-color-unfitted-level-3);\n",
       "  color: var(--sklearn-color-background);\n",
       "  text-decoration: none;\n",
       "}\n",
       "\n",
       "div.sk-estimator.fitted:hover .sk-estimator-doc-link.fitted:hover,\n",
       ".sk-estimator-doc-link.fitted:hover,\n",
       "div.sk-label-container:hover .sk-estimator-doc-link.fitted:hover,\n",
       ".sk-estimator-doc-link.fitted:hover {\n",
       "  /* fitted */\n",
       "  background-color: var(--sklearn-color-fitted-level-3);\n",
       "  color: var(--sklearn-color-background);\n",
       "  text-decoration: none;\n",
       "}\n",
       "\n",
       "/* Span, style for the box shown on hovering the info icon */\n",
       ".sk-estimator-doc-link span {\n",
       "  display: none;\n",
       "  z-index: 9999;\n",
       "  position: relative;\n",
       "  font-weight: normal;\n",
       "  right: .2ex;\n",
       "  padding: .5ex;\n",
       "  margin: .5ex;\n",
       "  width: min-content;\n",
       "  min-width: 20ex;\n",
       "  max-width: 50ex;\n",
       "  color: var(--sklearn-color-text);\n",
       "  box-shadow: 2pt 2pt 4pt #999;\n",
       "  /* unfitted */\n",
       "  background: var(--sklearn-color-unfitted-level-0);\n",
       "  border: .5pt solid var(--sklearn-color-unfitted-level-3);\n",
       "}\n",
       "\n",
       ".sk-estimator-doc-link.fitted span {\n",
       "  /* fitted */\n",
       "  background: var(--sklearn-color-fitted-level-0);\n",
       "  border: var(--sklearn-color-fitted-level-3);\n",
       "}\n",
       "\n",
       ".sk-estimator-doc-link:hover span {\n",
       "  display: block;\n",
       "}\n",
       "\n",
       "/* \"?\"-specific style due to the `<a>` HTML tag */\n",
       "\n",
       "#sk-container-id-1 a.estimator_doc_link {\n",
       "  float: right;\n",
       "  font-size: 1rem;\n",
       "  line-height: 1em;\n",
       "  font-family: monospace;\n",
       "  background-color: var(--sklearn-color-background);\n",
       "  border-radius: 1rem;\n",
       "  height: 1rem;\n",
       "  width: 1rem;\n",
       "  text-decoration: none;\n",
       "  /* unfitted */\n",
       "  color: var(--sklearn-color-unfitted-level-1);\n",
       "  border: var(--sklearn-color-unfitted-level-1) 1pt solid;\n",
       "}\n",
       "\n",
       "#sk-container-id-1 a.estimator_doc_link.fitted {\n",
       "  /* fitted */\n",
       "  border: var(--sklearn-color-fitted-level-1) 1pt solid;\n",
       "  color: var(--sklearn-color-fitted-level-1);\n",
       "}\n",
       "\n",
       "/* On hover */\n",
       "#sk-container-id-1 a.estimator_doc_link:hover {\n",
       "  /* unfitted */\n",
       "  background-color: var(--sklearn-color-unfitted-level-3);\n",
       "  color: var(--sklearn-color-background);\n",
       "  text-decoration: none;\n",
       "}\n",
       "\n",
       "#sk-container-id-1 a.estimator_doc_link.fitted:hover {\n",
       "  /* fitted */\n",
       "  background-color: var(--sklearn-color-fitted-level-3);\n",
       "}\n",
       "</style><div id=\"sk-container-id-1\" class=\"sk-top-container\"><div class=\"sk-text-repr-fallback\"><pre>Pipeline(steps=[(&#x27;preprocessor&#x27;,\n",
       "                 ColumnTransformer(transformers=[(&#x27;cast&#x27;, CastFeatureEncoder(),\n",
       "                                                  [&#x27;cast&#x27;]),\n",
       "                                                 (&#x27;cat&#x27;,\n",
       "                                                  TopNEntitiesExtractor(),\n",
       "                                                  [&#x27;director&#x27;, &#x27;genres&#x27;,\n",
       "                                                   &#x27;music_composer&#x27;,\n",
       "                                                   &#x27;original_language&#x27;,\n",
       "                                                   &#x27;producers&#x27;,\n",
       "                                                   &#x27;production_companies&#x27;,\n",
       "                                                   &#x27;production_countries&#x27;,\n",
       "                                                   &#x27;spoken_languages&#x27;,\n",
       "                                                   &#x27;writers&#x27;]),\n",
       "                                                 (&#x27;date&#x27;,\n",
       "                                                  Pipeline(steps=[(&#x27;onehot&#x27;,\n",
       "                                                                   OneHotEncoder(handle_unknown=&#x27;ignor...\n",
       "                                                   &#x27;release_month&#x27;,\n",
       "                                                   &#x27;release_day_of_week&#x27;,\n",
       "                                                   &#x27;release_day_of_year&#x27;,\n",
       "                                                   &#x27;is_weekend_release&#x27;]),\n",
       "                                                 (&#x27;num&#x27;,\n",
       "                                                  Pipeline(steps=[(&#x27;scaler&#x27;,\n",
       "                                                                   MinMaxScaler())]),\n",
       "                                                  [&#x27;popularity&#x27;, &#x27;runtime&#x27;]),\n",
       "                                                 (&#x27;adjusted_budget&#x27;,\n",
       "                                                  &#x27;passthrough&#x27;,\n",
       "                                                  [&#x27;adjusted_budget&#x27;]),\n",
       "                                                 (&#x27;other_num&#x27;, &#x27;passthrough&#x27;,\n",
       "                                                  [&#x27;title_length&#x27;,\n",
       "                                                   &#x27;normalized_imdb_rating&#x27;,\n",
       "                                                   &#x27;normalized_vote_average&#x27;])])),\n",
       "                (&#x27;model&#x27;, RandomForestRegressor(random_state=42))])</pre><b>In a Jupyter environment, please rerun this cell to show the HTML representation or trust the notebook. <br />On GitHub, the HTML representation is unable to render, please try loading this page with nbviewer.org.</b></div><div class=\"sk-container\" hidden><div class=\"sk-item sk-dashed-wrapped\"><div class=\"sk-label-container\"><div class=\"sk-label fitted sk-toggleable\"><input class=\"sk-toggleable__control sk-hidden--visually\" id=\"sk-estimator-id-1\" type=\"checkbox\" ><label for=\"sk-estimator-id-1\" class=\"sk-toggleable__label fitted sk-toggleable__label-arrow fitted\">&nbsp;&nbsp;Pipeline<a class=\"sk-estimator-doc-link fitted\" rel=\"noreferrer\" target=\"_blank\" href=\"https://scikit-learn.org/1.5/modules/generated/sklearn.pipeline.Pipeline.html\">?<span>Documentation for Pipeline</span></a><span class=\"sk-estimator-doc-link fitted\">i<span>Fitted</span></span></label><div class=\"sk-toggleable__content fitted\"><pre>Pipeline(steps=[(&#x27;preprocessor&#x27;,\n",
       "                 ColumnTransformer(transformers=[(&#x27;cast&#x27;, CastFeatureEncoder(),\n",
       "                                                  [&#x27;cast&#x27;]),\n",
       "                                                 (&#x27;cat&#x27;,\n",
       "                                                  TopNEntitiesExtractor(),\n",
       "                                                  [&#x27;director&#x27;, &#x27;genres&#x27;,\n",
       "                                                   &#x27;music_composer&#x27;,\n",
       "                                                   &#x27;original_language&#x27;,\n",
       "                                                   &#x27;producers&#x27;,\n",
       "                                                   &#x27;production_companies&#x27;,\n",
       "                                                   &#x27;production_countries&#x27;,\n",
       "                                                   &#x27;spoken_languages&#x27;,\n",
       "                                                   &#x27;writers&#x27;]),\n",
       "                                                 (&#x27;date&#x27;,\n",
       "                                                  Pipeline(steps=[(&#x27;onehot&#x27;,\n",
       "                                                                   OneHotEncoder(handle_unknown=&#x27;ignor...\n",
       "                                                   &#x27;release_month&#x27;,\n",
       "                                                   &#x27;release_day_of_week&#x27;,\n",
       "                                                   &#x27;release_day_of_year&#x27;,\n",
       "                                                   &#x27;is_weekend_release&#x27;]),\n",
       "                                                 (&#x27;num&#x27;,\n",
       "                                                  Pipeline(steps=[(&#x27;scaler&#x27;,\n",
       "                                                                   MinMaxScaler())]),\n",
       "                                                  [&#x27;popularity&#x27;, &#x27;runtime&#x27;]),\n",
       "                                                 (&#x27;adjusted_budget&#x27;,\n",
       "                                                  &#x27;passthrough&#x27;,\n",
       "                                                  [&#x27;adjusted_budget&#x27;]),\n",
       "                                                 (&#x27;other_num&#x27;, &#x27;passthrough&#x27;,\n",
       "                                                  [&#x27;title_length&#x27;,\n",
       "                                                   &#x27;normalized_imdb_rating&#x27;,\n",
       "                                                   &#x27;normalized_vote_average&#x27;])])),\n",
       "                (&#x27;model&#x27;, RandomForestRegressor(random_state=42))])</pre></div> </div></div><div class=\"sk-serial\"><div class=\"sk-item sk-dashed-wrapped\"><div class=\"sk-label-container\"><div class=\"sk-label fitted sk-toggleable\"><input class=\"sk-toggleable__control sk-hidden--visually\" id=\"sk-estimator-id-2\" type=\"checkbox\" ><label for=\"sk-estimator-id-2\" class=\"sk-toggleable__label fitted sk-toggleable__label-arrow fitted\">&nbsp;preprocessor: ColumnTransformer<a class=\"sk-estimator-doc-link fitted\" rel=\"noreferrer\" target=\"_blank\" href=\"https://scikit-learn.org/1.5/modules/generated/sklearn.compose.ColumnTransformer.html\">?<span>Documentation for preprocessor: ColumnTransformer</span></a></label><div class=\"sk-toggleable__content fitted\"><pre>ColumnTransformer(transformers=[(&#x27;cast&#x27;, CastFeatureEncoder(), [&#x27;cast&#x27;]),\n",
       "                                (&#x27;cat&#x27;, TopNEntitiesExtractor(),\n",
       "                                 [&#x27;director&#x27;, &#x27;genres&#x27;, &#x27;music_composer&#x27;,\n",
       "                                  &#x27;original_language&#x27;, &#x27;producers&#x27;,\n",
       "                                  &#x27;production_companies&#x27;,\n",
       "                                  &#x27;production_countries&#x27;, &#x27;spoken_languages&#x27;,\n",
       "                                  &#x27;writers&#x27;]),\n",
       "                                (&#x27;date&#x27;,\n",
       "                                 Pipeline(steps=[(&#x27;onehot&#x27;,\n",
       "                                                  OneHotEncoder(handle_unknown=&#x27;ignore&#x27;,\n",
       "                                                                sparse_output=False))]),\n",
       "                                 [&#x27;release_season&#x27;, &#x27;release_month&#x27;,\n",
       "                                  &#x27;release_day_of_week&#x27;, &#x27;release_day_of_year&#x27;,\n",
       "                                  &#x27;is_weekend_release&#x27;]),\n",
       "                                (&#x27;num&#x27;,\n",
       "                                 Pipeline(steps=[(&#x27;scaler&#x27;, MinMaxScaler())]),\n",
       "                                 [&#x27;popularity&#x27;, &#x27;runtime&#x27;]),\n",
       "                                (&#x27;adjusted_budget&#x27;, &#x27;passthrough&#x27;,\n",
       "                                 [&#x27;adjusted_budget&#x27;]),\n",
       "                                (&#x27;other_num&#x27;, &#x27;passthrough&#x27;,\n",
       "                                 [&#x27;title_length&#x27;, &#x27;normalized_imdb_rating&#x27;,\n",
       "                                  &#x27;normalized_vote_average&#x27;])])</pre></div> </div></div><div class=\"sk-parallel\"><div class=\"sk-parallel-item\"><div class=\"sk-item\"><div class=\"sk-label-container\"><div class=\"sk-label fitted sk-toggleable\"><input class=\"sk-toggleable__control sk-hidden--visually\" id=\"sk-estimator-id-3\" type=\"checkbox\" ><label for=\"sk-estimator-id-3\" class=\"sk-toggleable__label fitted sk-toggleable__label-arrow fitted\">cast</label><div class=\"sk-toggleable__content fitted\"><pre>[&#x27;cast&#x27;]</pre></div> </div></div><div class=\"sk-serial\"><div class=\"sk-item\"><div class=\"sk-estimator fitted sk-toggleable\"><input class=\"sk-toggleable__control sk-hidden--visually\" id=\"sk-estimator-id-4\" type=\"checkbox\" ><label for=\"sk-estimator-id-4\" class=\"sk-toggleable__label fitted sk-toggleable__label-arrow fitted\">CastFeatureEncoder</label><div class=\"sk-toggleable__content fitted\"><pre>CastFeatureEncoder()</pre></div> </div></div></div></div></div><div class=\"sk-parallel-item\"><div class=\"sk-item\"><div class=\"sk-label-container\"><div class=\"sk-label fitted sk-toggleable\"><input class=\"sk-toggleable__control sk-hidden--visually\" id=\"sk-estimator-id-5\" type=\"checkbox\" ><label for=\"sk-estimator-id-5\" class=\"sk-toggleable__label fitted sk-toggleable__label-arrow fitted\">cat</label><div class=\"sk-toggleable__content fitted\"><pre>[&#x27;director&#x27;, &#x27;genres&#x27;, &#x27;music_composer&#x27;, &#x27;original_language&#x27;, &#x27;producers&#x27;, &#x27;production_companies&#x27;, &#x27;production_countries&#x27;, &#x27;spoken_languages&#x27;, &#x27;writers&#x27;]</pre></div> </div></div><div class=\"sk-serial\"><div class=\"sk-item\"><div class=\"sk-estimator fitted sk-toggleable\"><input class=\"sk-toggleable__control sk-hidden--visually\" id=\"sk-estimator-id-6\" type=\"checkbox\" ><label for=\"sk-estimator-id-6\" class=\"sk-toggleable__label fitted sk-toggleable__label-arrow fitted\">TopNEntitiesExtractor</label><div class=\"sk-toggleable__content fitted\"><pre>TopNEntitiesExtractor()</pre></div> </div></div></div></div></div><div class=\"sk-parallel-item\"><div class=\"sk-item\"><div class=\"sk-label-container\"><div class=\"sk-label fitted sk-toggleable\"><input class=\"sk-toggleable__control sk-hidden--visually\" id=\"sk-estimator-id-7\" type=\"checkbox\" ><label for=\"sk-estimator-id-7\" class=\"sk-toggleable__label fitted sk-toggleable__label-arrow fitted\">date</label><div class=\"sk-toggleable__content fitted\"><pre>[&#x27;release_season&#x27;, &#x27;release_month&#x27;, &#x27;release_day_of_week&#x27;, &#x27;release_day_of_year&#x27;, &#x27;is_weekend_release&#x27;]</pre></div> </div></div><div class=\"sk-serial\"><div class=\"sk-item\"><div class=\"sk-serial\"><div class=\"sk-item\"><div class=\"sk-estimator fitted sk-toggleable\"><input class=\"sk-toggleable__control sk-hidden--visually\" id=\"sk-estimator-id-8\" type=\"checkbox\" ><label for=\"sk-estimator-id-8\" class=\"sk-toggleable__label fitted sk-toggleable__label-arrow fitted\">&nbsp;OneHotEncoder<a class=\"sk-estimator-doc-link fitted\" rel=\"noreferrer\" target=\"_blank\" href=\"https://scikit-learn.org/1.5/modules/generated/sklearn.preprocessing.OneHotEncoder.html\">?<span>Documentation for OneHotEncoder</span></a></label><div class=\"sk-toggleable__content fitted\"><pre>OneHotEncoder(handle_unknown=&#x27;ignore&#x27;, sparse_output=False)</pre></div> </div></div></div></div></div></div></div><div class=\"sk-parallel-item\"><div class=\"sk-item\"><div class=\"sk-label-container\"><div class=\"sk-label fitted sk-toggleable\"><input class=\"sk-toggleable__control sk-hidden--visually\" id=\"sk-estimator-id-9\" type=\"checkbox\" ><label for=\"sk-estimator-id-9\" class=\"sk-toggleable__label fitted sk-toggleable__label-arrow fitted\">num</label><div class=\"sk-toggleable__content fitted\"><pre>[&#x27;popularity&#x27;, &#x27;runtime&#x27;]</pre></div> </div></div><div class=\"sk-serial\"><div class=\"sk-item\"><div class=\"sk-serial\"><div class=\"sk-item\"><div class=\"sk-estimator fitted sk-toggleable\"><input class=\"sk-toggleable__control sk-hidden--visually\" id=\"sk-estimator-id-10\" type=\"checkbox\" ><label for=\"sk-estimator-id-10\" class=\"sk-toggleable__label fitted sk-toggleable__label-arrow fitted\">&nbsp;MinMaxScaler<a class=\"sk-estimator-doc-link fitted\" rel=\"noreferrer\" target=\"_blank\" href=\"https://scikit-learn.org/1.5/modules/generated/sklearn.preprocessing.MinMaxScaler.html\">?<span>Documentation for MinMaxScaler</span></a></label><div class=\"sk-toggleable__content fitted\"><pre>MinMaxScaler()</pre></div> </div></div></div></div></div></div></div><div class=\"sk-parallel-item\"><div class=\"sk-item\"><div class=\"sk-label-container\"><div class=\"sk-label fitted sk-toggleable\"><input class=\"sk-toggleable__control sk-hidden--visually\" id=\"sk-estimator-id-11\" type=\"checkbox\" ><label for=\"sk-estimator-id-11\" class=\"sk-toggleable__label fitted sk-toggleable__label-arrow fitted\">adjusted_budget</label><div class=\"sk-toggleable__content fitted\"><pre>[&#x27;adjusted_budget&#x27;]</pre></div> </div></div><div class=\"sk-serial\"><div class=\"sk-item\"><div class=\"sk-estimator fitted sk-toggleable\"><input class=\"sk-toggleable__control sk-hidden--visually\" id=\"sk-estimator-id-12\" type=\"checkbox\" ><label for=\"sk-estimator-id-12\" class=\"sk-toggleable__label fitted sk-toggleable__label-arrow fitted\">passthrough</label><div class=\"sk-toggleable__content fitted\"><pre>passthrough</pre></div> </div></div></div></div></div><div class=\"sk-parallel-item\"><div class=\"sk-item\"><div class=\"sk-label-container\"><div class=\"sk-label fitted sk-toggleable\"><input class=\"sk-toggleable__control sk-hidden--visually\" id=\"sk-estimator-id-13\" type=\"checkbox\" ><label for=\"sk-estimator-id-13\" class=\"sk-toggleable__label fitted sk-toggleable__label-arrow fitted\">other_num</label><div class=\"sk-toggleable__content fitted\"><pre>[&#x27;title_length&#x27;, &#x27;normalized_imdb_rating&#x27;, &#x27;normalized_vote_average&#x27;]</pre></div> </div></div><div class=\"sk-serial\"><div class=\"sk-item\"><div class=\"sk-estimator fitted sk-toggleable\"><input class=\"sk-toggleable__control sk-hidden--visually\" id=\"sk-estimator-id-14\" type=\"checkbox\" ><label for=\"sk-estimator-id-14\" class=\"sk-toggleable__label fitted sk-toggleable__label-arrow fitted\">passthrough</label><div class=\"sk-toggleable__content fitted\"><pre>passthrough</pre></div> </div></div></div></div></div></div></div><div class=\"sk-item\"><div class=\"sk-estimator fitted sk-toggleable\"><input class=\"sk-toggleable__control sk-hidden--visually\" id=\"sk-estimator-id-15\" type=\"checkbox\" ><label for=\"sk-estimator-id-15\" class=\"sk-toggleable__label fitted sk-toggleable__label-arrow fitted\">&nbsp;RandomForestRegressor<a class=\"sk-estimator-doc-link fitted\" rel=\"noreferrer\" target=\"_blank\" href=\"https://scikit-learn.org/1.5/modules/generated/sklearn.ensemble.RandomForestRegressor.html\">?<span>Documentation for RandomForestRegressor</span></a></label><div class=\"sk-toggleable__content fitted\"><pre>RandomForestRegressor(random_state=42)</pre></div> </div></div></div></div></div></div>"
      ],
      "text/plain": [
       "Pipeline(steps=[('preprocessor',\n",
       "                 ColumnTransformer(transformers=[('cast', CastFeatureEncoder(),\n",
       "                                                  ['cast']),\n",
       "                                                 ('cat',\n",
       "                                                  TopNEntitiesExtractor(),\n",
       "                                                  ['director', 'genres',\n",
       "                                                   'music_composer',\n",
       "                                                   'original_language',\n",
       "                                                   'producers',\n",
       "                                                   'production_companies',\n",
       "                                                   'production_countries',\n",
       "                                                   'spoken_languages',\n",
       "                                                   'writers']),\n",
       "                                                 ('date',\n",
       "                                                  Pipeline(steps=[('onehot',\n",
       "                                                                   OneHotEncoder(handle_unknown='ignor...\n",
       "                                                   'release_month',\n",
       "                                                   'release_day_of_week',\n",
       "                                                   'release_day_of_year',\n",
       "                                                   'is_weekend_release']),\n",
       "                                                 ('num',\n",
       "                                                  Pipeline(steps=[('scaler',\n",
       "                                                                   MinMaxScaler())]),\n",
       "                                                  ['popularity', 'runtime']),\n",
       "                                                 ('adjusted_budget',\n",
       "                                                  'passthrough',\n",
       "                                                  ['adjusted_budget']),\n",
       "                                                 ('other_num', 'passthrough',\n",
       "                                                  ['title_length',\n",
       "                                                   'normalized_imdb_rating',\n",
       "                                                   'normalized_vote_average'])])),\n",
       "                ('model', RandomForestRegressor(random_state=42))])"
      ]
     },
     "execution_count": 15,
     "metadata": {},
     "output_type": "execute_result"
    }
   ],
   "source": [
    "loaded_pipeline"
   ]
  },
  {
   "cell_type": "code",
   "execution_count": 16,
   "metadata": {},
   "outputs": [
    {
     "data": {
      "image/png": "[encoded data removed]",
      "text/plain": [
       "<Figure size 1000x600 with 1 Axes>"
      ]
     },
     "metadata": {},
     "output_type": "display_data"
    }
   ],
   "source": [
    "# Plot train vs test scores for the CatBoost model after tuning\n",
    "# Plotting True vs Predicted Adjusted Revenue for Train and Test sets\n",
    "plt.figure(figsize=(10, 6))\n",
    "plt.scatter(y_train, y_pred_train, label='Train Predictions', alpha=0.6, color='blue')\n",
    "plt.scatter(y_test, y_pred_test, label='Test Predictions', alpha=0.6, color='red')\n",
    "plt.plot([y.min(), y.max()], [y.min(), y.max()], 'k--', lw=2, label='Perfect Prediction')\n",
    "plt.xlabel('True Adjusted Revenue')\n",
    "plt.ylabel('Predicted Adjusted Revenue')\n",
    "plt.title('Train vs Test Predictions for RF Model')\n",
    "plt.legend()\n",
    "plt.grid(True)\n",
    "plt.tight_layout()\n",
    "\n",
    "# Save and display the plot\n",
    "plt.savefig('./data/rf_train_vs_test.png')\n",
    "plt.show()"
   ]
  },
  {
   "cell_type": "markdown",
   "metadata": {},
   "source": [
    ">*Observation:*  \n",
    "> - The **train and test predictions** generally align along the diagonal, indicating that the model is reasonably accurate in predicting adjusted revenue. However, the **test predictions** (in red) show slightly more spread from the line, reflecting some variance and overfitting in the model.\n",
    "> - **High-revenue movies** (data points further along the x-axis) tend to exhibit more prediction variability, particularly for outliers where the model occasionally overestimates. This might stem from the high complexity of our dataset, which includes numerous categorical and numerical features, some of which are encoded with our custom classes. These transformations introduce feature interactions that are challenging to capture perfectly.\n",
    "> - Despite the overfitting hints, the **RandomForest model** performs admirably given the intricate dataset, with its ability to capture non-linear relationships. The results support that it effectively generalizes while handling the high-dimensional and diverse feature set, though further tuning or additional data might enhance predictions for extreme cases.\n"
   ]
  },
  {
   "cell_type": "markdown",
   "metadata": {},
   "source": [
    "### Inspecting Transformed Training Data Features\n",
    "\n",
    "Next, we will transform our training data using the preprocessor from our best model's pipeline. This allows us to inspect the final transformed features, ensuring consistency in feature engineering and alignment with model expectations before further analysis or deployment."
   ]
  },
  {
   "cell_type": "code",
   "execution_count": 17,
   "metadata": {},
   "outputs": [
    {
     "name": "stdout",
     "output_type": "stream",
     "text": [
      "Shape of the transformed X_train: (4154, 546)\n",
      "   cast_Samuel L. Jackson  cast_J.K. Simmons  cast_Nicolas Cage  \\\n",
      "0                     0.0                0.0                0.0   \n",
      "1                     0.0                0.0                0.0   \n",
      "2                     0.0                0.0                0.0   \n",
      "3                     0.0                0.0                0.0   \n",
      "4                     0.0                0.0                0.0   \n",
      "\n",
      "   cast_Matt Damon  cast_Liam Neeson  cast_Willem Dafoe  cast_Bruce Willis  \\\n",
      "0              0.0               0.0                0.0                0.0   \n",
      "1              0.0               0.0                0.0                0.0   \n",
      "2              0.0               0.0                0.0                0.0   \n",
      "3              0.0               0.0                0.0                0.0   \n",
      "4              0.0               0.0                0.0                0.0   \n",
      "\n",
      "   cast_Fred Tatasciore  cast_Owen Wilson  cast_Will Ferrell  ...  \\\n",
      "0                   0.0               0.0                0.0  ...   \n",
      "1                   0.0               0.0                0.0  ...   \n",
      "2                   0.0               0.0                0.0  ...   \n",
      "3                   0.0               0.0                0.0  ...   \n",
      "4                   0.0               0.0                0.0  ...   \n",
      "\n",
      "   release_day_of_year_365  release_day_of_year_366  is_weekend_release_0  \\\n",
      "0                      0.0                      0.0                   1.0   \n",
      "1                      0.0                      0.0                   0.0   \n",
      "2                      0.0                      0.0                   1.0   \n",
      "3                      0.0                      0.0                   1.0   \n",
      "4                      0.0                      0.0                   1.0   \n",
      "\n",
      "   is_weekend_release_1  popularity   runtime  adjusted_budget  title_length  \\\n",
      "0                   0.0    0.006464  0.516746     4.372871e+07          10.0   \n",
      "1                   1.0    0.004731  0.411483     3.079296e+06          51.0   \n",
      "2                   0.0    0.001195  0.411483     2.397398e+06          14.0   \n",
      "3                   0.0    0.002362  0.550239     1.913463e+07          26.0   \n",
      "4                   0.0    0.002837  0.473684     1.332481e+07           4.0   \n",
      "\n",
      "   normalized_imdb_rating  normalized_vote_average  \n",
      "0                7.898911                 7.369127  \n",
      "1                6.847362                 4.237168  \n",
      "2                5.893290                 4.811957  \n",
      "3                7.087022                 6.404402  \n",
      "4                6.911739                 5.371261  \n",
      "\n",
      "[5 rows x 546 columns]\n"
     ]
    }
   ],
   "source": [
    "# Step 1: Extract the preprocessor from the pipeline\n",
    "preprocessor = pipeline_loaded.named_steps['preprocessor']\n",
    "\n",
    "# Step 2: Transform the training data (this step assumes your preprocessor is already fitted)\n",
    "X_train_transformed = preprocessor.transform(X_train)\n",
    "\n",
    "# Step 3: Get feature names from each transformer within the preprocessor\n",
    "all_feature_names = []\n",
    "\n",
    "for name, transformer, columns in preprocessor.transformers_:\n",
    "    if name == 'cast':\n",
    "        all_feature_names.extend([f\"cast_{entity}\" for entity in transformer.top_entities])\n",
    "    elif name == 'cat':\n",
    "        for col in columns:\n",
    "            top_entities = transformer.top_entities.get(col, [])\n",
    "            all_feature_names.extend([f\"{col}_{entity}\" for entity in top_entities])\n",
    "    elif name == 'date':\n",
    "        if hasattr(transformer.named_steps['onehot'], 'categories_'):\n",
    "            categories = transformer.named_steps['onehot'].categories_\n",
    "            feature_names = [f\"{col}_{val}\" for col, cats in zip(columns, categories) for val in cats]\n",
    "            all_feature_names.extend(feature_names)\n",
    "    elif name == 'num':\n",
    "        all_feature_names.extend(columns)\n",
    "    else:\n",
    "        all_feature_names.extend(columns)\n",
    "\n",
    "# Step 3.1: If there is still a mismatch, generate placeholder names\n",
    "if len(all_feature_names) != X_train_transformed.shape[1]:\n",
    "    print(\"Warning: Feature names length does not match the number of columns in the transformed data. Adjusting feature names.\")\n",
    "    all_feature_names = [f'feature_{i}' for i in range(X_train_transformed.shape[1])]\n",
    "\n",
    "# Step 4: Create a DataFrame from the transformed training data with proper column names\n",
    "X_train_transformed_df = pd.DataFrame(X_train_transformed, columns=all_feature_names)\n",
    "\n",
    "# Step 5: Display the shape and first few rows of the transformed DataFrame\n",
    "print(f\"Shape of the transformed X_train: {X_train_transformed_df.shape}\")\n",
    "print(X_train_transformed_df.head())"
   ]
  },
  {
   "cell_type": "markdown",
   "metadata": {},
   "source": [
    "### Predicting Revenue, Calculating ROI, and Classifying Movie Success\n",
    "\n",
    "In this step, we use our `RandomForest` pipeline to predict the `adjusted_revenue` for each movie. We then calculate the ROI (Return on Investment) by comparing the predicted revenue to the initial `adjusted_budget`. A rule of thumb is applied to classify a movie as successful if its final revenue is at least twice the initial budget (ROI ≥ 1). This classification is saved for further analysis."
   ]
  },
  {
   "cell_type": "code",
   "execution_count": null,
   "metadata": {},
   "outputs": [
    {
     "name": "stdout",
     "output_type": "stream",
     "text": [
      "\n",
      "Predicted Success/Failure for Movies:\n",
      "      Original_Index  Predicted_Adjusted_Revenue  Adjusted_Budget       ROI  \\\n",
      "1723            1723                2.600820e+08     4.372871e+07  4.947625   \n",
      "5109            5109                2.053440e+06     3.079296e+06 -0.333146   \n",
      "3686            3686                8.799433e+06     2.397398e+06  2.670410   \n",
      "3362            3362                3.715416e+07     1.913463e+07  0.941723   \n",
      "4630            4630                6.646124e+07     1.332481e+07  3.987780   \n",
      "\n",
      "      Success_Failure  Popularity  Normalized_IMDb_Rating  \\\n",
      "1723                1      33.257                7.898911   \n",
      "5109                0      24.396                6.847362   \n",
      "3686                1       6.318                5.893290   \n",
      "3362                0      12.285                7.087022   \n",
      "4630                1      14.712                6.911739   \n",
      "\n",
      "      Normalized_Vote_Average  \n",
      "1723                 7.369127  \n",
      "5109                 4.237168  \n",
      "3686                 4.811957  \n",
      "3362                 6.404402  \n",
      "4630                 5.371261  \n",
      "Success/Failure predictions saved successfully.\n"
     ]
    }
   ],
   "source": [
    "# Step 1: Load the saved pipeline (assuming the pipeline was saved as 'best_pipeline.pkl')\n",
    "# Step 2: Predict adjusted revenue using the loaded pipeline\n",
    "# Assuming you have a new set of data or you want to use X_test (as an example)\n",
    "y_pred_adjusted_revenue = pipeline_loaded.predict(X_train)\n",
    "\n",
    "# Step 3: Calculate ROI and determine success or failure\n",
    "adjusted_budget_train = X_train['adjusted_budget']  # Extracting adjusted_budget from the training data\n",
    "popularity_train = X_train['popularity']  # Extracting popularity from the training data\n",
    "normalized_imdb_rating_train = X_train['normalized_imdb_rating']  # Extracting normalized IMDb rating\n",
    "normalized_vote_average_train = X_train['normalized_vote_average']  # Extracting normalized vote average\n",
    "\n",
    "roi = (y_pred_adjusted_revenue - adjusted_budget_train) / adjusted_budget_train  # ROI calculation\n",
    "\n",
    "# Define Success/Failure based on ROI\n",
    "success_failure = (roi >= 1).astype(int)  # 1 for Success, 0 for Failure\n",
    "\n",
    "# Step 4: Create a DataFrame to view the predicted values along with ROI, success/failure status, and other features\n",
    "success_failure_df = pd.DataFrame({\n",
    "    'Original_Index': X_train.index,\n",
    "    'Predicted_Adjusted_Revenue': y_pred_adjusted_revenue,\n",
    "    'Adjusted_Budget': adjusted_budget_train,\n",
    "    'ROI': roi,\n",
    "    'Success_Failure': success_failure,\n",
    "    'Popularity': popularity_train,\n",
    "    'Normalized_IMDb_Rating': normalized_imdb_rating_train,\n",
    "    'Normalized_Vote_Average': normalized_vote_average_train  # 1 for success, 0 for failure\n",
    "})\n",
    "\n",
    "# Step 5: Display the first few rows to verify\n",
    "print(\"\\nPredicted Success/Failure for Movies:\")\n",
    "print(success_failure_df.head())\n",
    "\n",
    "# Optional: Save the results to a CSV file for further analysis or presentation\n",
    "success_failure_df.to_csv('./data/movie_success_failure_predictions.csv', index=False)\n",
    "print(\"Success/Failure predictions saved successfully.\")"
   ]
  },
  {
   "cell_type": "markdown",
   "metadata": {},
   "source": [
    "____"
   ]
  },
  {
   "cell_type": "markdown",
   "metadata": {},
   "source": [
    "### Summarizing Entity Frequencies for Key Features\n",
    "\n",
    "This step calculates the frequency of unique entities within each key feature, such as `cast`, `genres`, and `production_companies`. By analyzing these frequencies, we gain insights into the most commonly occurring entities across our dataset. This information can help identify recurring influential factors in successful movies. The results are saved for further exploration and reference."
   ]
  },
  {
   "cell_type": "code",
   "execution_count": 19,
   "metadata": {},
   "outputs": [
    {
     "name": "stdout",
     "output_type": "stream",
     "text": [
      "Feature Entity Frequencies:\n",
      "  Feature             Entity  Frequency\n",
      "0    cast  Samuel L. Jackson         65\n",
      "1    cast       J.K. Simmons         56\n",
      "2    cast         Matt Damon         55\n",
      "3    cast       Willem Dafoe         51\n",
      "4    cast   Michael Papajohn         47\n"
     ]
    }
   ],
   "source": [
    "def feature_entity_frequencies(df, feature_columns):\n",
    "    summary_list = []\n",
    "\n",
    "    for feature in feature_columns:\n",
    "        if feature in df.columns:\n",
    "            # For features with multiple entities in a single row, split them if necessary\n",
    "            if df[feature].dtype == 'object':\n",
    "                # Assuming multiple entities in the same row are separated by commas\n",
    "                all_entities = df[feature].str.split(',').explode().str.strip()\n",
    "            else:\n",
    "                all_entities = df[feature]\n",
    "\n",
    "            # Count the frequency of each entity\n",
    "            entity_counts = all_entities.value_counts()\n",
    "\n",
    "            # Add to summary list\n",
    "            summary = pd.DataFrame({\n",
    "                'Feature': feature,\n",
    "                'Entity': entity_counts.index,\n",
    "                'Frequency': entity_counts.values\n",
    "            })\n",
    "            summary_list.append(summary)\n",
    "\n",
    "    # Combine all summaries into a single DataFrame\n",
    "    combined_summary = pd.concat(summary_list, ignore_index=True)\n",
    "    return combined_summary\n",
    "\n",
    "# Get feature summary\n",
    "feature_frequencies_df = feature_entity_frequencies(df, all_features)\n",
    "\n",
    "# Display the first few rows of the summary\n",
    "print(\"Feature Entity Frequencies:\")\n",
    "print(feature_frequencies_df.head())\n",
    "\n",
    "# Optional: Save the summary to a CSV for reference\n",
    "feature_frequencies_df.to_csv('./data/feature_frequencies.csv', index=False)"
   ]
  },
  {
   "cell_type": "markdown",
   "metadata": {},
   "source": [
    "### Predicting Adjusted Revenue\n",
    "\n",
    "Here, we use again the fitted `RandomForest` pipeline to predict the adjusted revenue on the training set. This predicted revenue is organized into a DataFrame for a clear view, allowing us to evaluate the model’s ability to estimate revenue accurately. "
   ]
  },
  {
   "cell_type": "code",
   "execution_count": 20,
   "metadata": {},
   "outputs": [
    {
     "name": "stdout",
     "output_type": "stream",
     "text": [
      "   Original_Index  Predicted_Adjusted_Revenue\n",
      "0            1723                2.600820e+08\n",
      "1            5109                2.053440e+06\n",
      "2            3686                8.799433e+06\n",
      "3            3362                3.715416e+07\n",
      "4            4630                6.646124e+07\n"
     ]
    }
   ],
   "source": [
    "# Predict adjusted revenue using the fitted pipeline\n",
    "y_pred_adjusted_revenue = pipeline_loaded.predict(X_train)\n",
    "\n",
    "# Create a DataFrame to see the predicted adjusted revenue values\n",
    "y_pred_df = pd.DataFrame({\n",
    "    'Original_Index': X_train.index,\n",
    "    'Predicted_Adjusted_Revenue': y_pred_adjusted_revenue\n",
    "})\n",
    "\n",
    "# Display the first few rows of the DataFrame\n",
    "print(y_pred_df.head())\n"
   ]
  },
  {
   "cell_type": "markdown",
   "metadata": {},
   "source": [
    "___"
   ]
  },
  {
   "cell_type": "markdown",
   "metadata": {},
   "source": [
    "### Feature Selection and Scenario Testing for Revenue Impact\n",
    "\n",
    "In this step, we:\n",
    "1. **Select Top Features**: Use `SelectKBest` to identify the most influential features in predicting revenue. This step narrows down the high-dimensional feature set, focusing on variables most correlated with revenue.\n",
    "\n",
    "2. **Modify Key Features for Scenario Analysis**: We then allow controlled modifications to top features in a selected movie's profile (e.g., changing cast or genre), generating new revenue predictions based on these adjustments. This approach tests if altering critical factors can shift a movie's success probability.\n",
    "\n",
    "3. **Comparison and Impact Analysis**: The model’s predictions before and after modification are compared, allowing us to understand how changes in specific influential features impact revenue and success classification.\n",
    "\n",
    "This analysis provides insights into the practical levers that could enhance a movie’s financial performance, informing decisions on factors like budget allocation, casting, and genre targeting."
   ]
  },
  {
   "cell_type": "markdown",
   "metadata": {},
   "source": [
    "#### SelectKBest"
   ]
  },
  {
   "cell_type": "code",
   "execution_count": 23,
   "metadata": {},
   "outputs": [
    {
     "name": "stdout",
     "output_type": "stream",
     "text": [
      "\n",
      "Top Features Selected by SelectKBest:\n",
      "                     Feature        Score\n",
      "296          adjusted_budget  5374.319884\n",
      "299  normalized_vote_average   719.401755\n",
      "9              cast_Stan Lee   358.731914\n",
      "25          genres_Adventure   256.596826\n",
      "298   normalized_imdb_rating   250.338997\n",
      "..                       ...          ...\n",
      "255  release_day_of_year_282     0.744497\n",
      "187  release_day_of_year_154     0.738945\n",
      "202  release_day_of_year_182     0.736672\n",
      "141   release_day_of_year_46     0.733623\n",
      "218  release_day_of_year_225     0.732254\n",
      "\n",
      "[300 rows x 2 columns]\n",
      "Top features saved successfully.\n"
     ]
    }
   ],
   "source": [
    "# Step 3: Initialize SelectKBest with a reasonable value to limit computation time\n",
    "start_time = time.time()\n",
    "max_time = 5 * 60  # 5 minutes in seconds\n",
    "k = 300  # Start with 10 features, adjust as needed\n",
    "\n",
    "# Transform the training data (fit transform to ensure it adapts to changes in data and transformations)\n",
    "X_train_transformed = preprocessor.fit_transform(X_train)\n",
    "\n",
    "# Dynamically adjust k to ensure computation stays within 5 minutes\n",
    "top_features_found = False\n",
    "while not top_features_found:\n",
    "    selector = SelectKBest(score_func=f_regression, k=k)\n",
    "    try:\n",
    "        # Fit selector to data\n",
    "        selector.fit(X_train_transformed, y_train)\n",
    "        end_time = time.time()\n",
    "        elapsed_time = end_time - start_time\n",
    "        \n",
    "        # Check if the process is within the max time allowed\n",
    "        if elapsed_time < max_time:\n",
    "            top_features_found = True\n",
    "        else:\n",
    "            k = max(1, k - 1)  # Decrease k to reduce computation time if necessary\n",
    "    except MemoryError:\n",
    "        # In case of memory error, reduce k\n",
    "        k = max(1, k - 1)\n",
    "\n",
    "# Step 4: Get the top features and their scores\n",
    "mask = selector.get_support()  # Get the mask of selected features\n",
    "\n",
    "# Extract feature names from the preprocessor\n",
    "all_feature_names = []\n",
    "for name, transformer, columns in preprocessor.transformers_:\n",
    "    if name == 'cast':\n",
    "        all_feature_names.extend([f\"cast_{entity}\" for entity in transformer.top_entities])\n",
    "    elif name == 'cat':\n",
    "        for col in columns:\n",
    "            top_entities = transformer.top_entities.get(col, [])\n",
    "            all_feature_names.extend([f\"{col}_{entity}\" for entity in top_entities])\n",
    "    elif name == 'date':\n",
    "        if hasattr(transformer.named_steps['onehot'], 'categories_'):\n",
    "            categories = transformer.named_steps['onehot'].categories_\n",
    "            feature_names = [f\"{col}_{val}\" for col, cats in zip(columns, categories) for val in cats]\n",
    "            all_feature_names.extend(feature_names)\n",
    "    elif name == 'num':\n",
    "        all_feature_names.extend(columns)\n",
    "    else:\n",
    "        all_feature_names.extend(columns)\n",
    "\n",
    "selected_features = np.array(all_feature_names)[mask]\n",
    "feature_scores = selector.scores_[mask]\n",
    "\n",
    "# Step 5: Create a DataFrame to view the top features and their scores\n",
    "top_features_df = pd.DataFrame({\n",
    "    'Feature': selected_features,\n",
    "    'Score': feature_scores\n",
    "}).sort_values(by='Score', ascending=False)\n",
    "\n",
    "# Step 6: Display the top features\n",
    "print(\"\\nTop Features Selected by SelectKBest:\")\n",
    "print(top_features_df)\n",
    "\n",
    "# Optional: Save the top features to a CSV file\n",
    "top_features_df.to_csv('./data/top_features_selectkbest.csv', index=False)\n",
    "print(\"Top features saved successfully.\")\n"
   ]
  },
  {
   "cell_type": "code",
   "execution_count": 24,
   "metadata": {},
   "outputs": [
    {
     "name": "stdout",
     "output_type": "stream",
     "text": [
      "\n",
      "Top Features Selected by SelectKBest:\n",
      "                     Feature        Score\n",
      "296          adjusted_budget  5374.319884\n",
      "299  normalized_vote_average   719.401755\n",
      "8              cast_Stan Lee   338.297302\n",
      "24          genres_Adventure   256.596826\n",
      "298   normalized_imdb_rating   250.338997\n",
      "..                       ...          ...\n",
      "187  release_day_of_year_154     0.738945\n",
      "202  release_day_of_year_182     0.736672\n",
      "141   release_day_of_year_46     0.733623\n",
      "218  release_day_of_year_225     0.732254\n",
      "137   release_day_of_year_33     0.726318\n",
      "\n",
      "[300 rows x 2 columns]\n"
     ]
    },
    {
     "data": {
      "application/vnd.plotly.v1+json": {
       "config": {
        "plotlyServerURL": "https://plot.ly"
       },
       "data": [
        {
         "alignmentgroup": "True",
         "hovertemplate": "Score=%{x}<br>Feature=%{y}<extra></extra>",
         "legendgroup": "",
         "marker": {
          "color": "#636efa",
          "pattern": {
           "shape": ""
          }
         },
         "name": "",
         "offsetgroup": "",
         "orientation": "h",
         "showlegend": false,
         "textposition": "auto",
         "type": "bar",
         "x": [
          5374.319883945718,
          719.4017548733293,
          338.2973024435958,
          256.59682577191126,
          250.33899730903687,
          188.2445406487047,
          174.048202122007,
          165.71145861056598,
          163.4150873377628,
          160.37133620147205,
          146.98437338273408,
          135.15705955731437,
          131.19182990710402,
          128.13171454094456,
          123.06594086381533
         ],
         "xaxis": "x",
         "y": [
          "adjusted_budget",
          "normalized_vote_average",
          "cast_Stan Lee",
          "genres_Adventure",
          "normalized_imdb_rating",
          "original_language_en",
          "runtime",
          "popularity",
          "release_day_of_week_2",
          "production_countries_United States of America",
          "music_composer_Hans Zimmer",
          "production_companies_Walt Disney Pictures",
          "music_composer_Michael Giacchino",
          "release_day_of_week_4",
          "is_weekend_release_1"
         ],
         "yaxis": "y"
        }
       ],
       "layout": {
        "barmode": "relative",
        "height": 400,
        "legend": {
         "tracegroupgap": 0
        },
        "template": {
         "data": {
          "bar": [
           {
            "error_x": {
             "color": "#2a3f5f"
            },
            "error_y": {
             "color": "#2a3f5f"
            },
            "marker": {
             "line": {
              "color": "#E5ECF6",
              "width": 0.5
             },
             "pattern": {
              "fillmode": "overlay",
              "size": 10,
              "solidity": 0.2
             }
            },
            "type": "bar"
           }
          ],
          "barpolar": [
           {
            "marker": {
             "line": {
              "color": "#E5ECF6",
              "width": 0.5
             },
             "pattern": {
              "fillmode": "overlay",
              "size": 10,
              "solidity": 0.2
             }
            },
            "type": "barpolar"
           }
          ],
          "carpet": [
           {
            "aaxis": {
             "endlinecolor": "#2a3f5f",
             "gridcolor": "white",
             "linecolor": "white",
             "minorgridcolor": "white",
             "startlinecolor": "#2a3f5f"
            },
            "baxis": {
             "endlinecolor": "#2a3f5f",
             "gridcolor": "white",
             "linecolor": "white",
             "minorgridcolor": "white",
             "startlinecolor": "#2a3f5f"
            },
            "type": "carpet"
           }
          ],
          "choropleth": [
           {
            "colorbar": {
             "outlinewidth": 0,
             "ticks": ""
            },
            "type": "choropleth"
           }
          ],
          "contour": [
           {
            "colorbar": {
             "outlinewidth": 0,
             "ticks": ""
            },
            "colorscale": [
             [
              0,
              "#0d0887"
             ],
             [
              0.1111111111111111,
              "#46039f"
             ],
             [
              0.2222222222222222,
              "#7201a8"
             ],
             [
              0.3333333333333333,
              "#9c179e"
             ],
             [
              0.4444444444444444,
              "#bd3786"
             ],
             [
              0.5555555555555556,
              "#d8576b"
             ],
             [
              0.6666666666666666,
              "#ed7953"
             ],
             [
              0.7777777777777778,
              "#fb9f3a"
             ],
             [
              0.8888888888888888,
              "#fdca26"
             ],
             [
              1,
              "#f0f921"
             ]
            ],
            "type": "contour"
           }
          ],
          "contourcarpet": [
           {
            "colorbar": {
             "outlinewidth": 0,
             "ticks": ""
            },
            "type": "contourcarpet"
           }
          ],
          "heatmap": [
           {
            "colorbar": {
             "outlinewidth": 0,
             "ticks": ""
            },
            "colorscale": [
             [
              0,
              "#0d0887"
             ],
             [
              0.1111111111111111,
              "#46039f"
             ],
             [
              0.2222222222222222,
              "#7201a8"
             ],
             [
              0.3333333333333333,
              "#9c179e"
             ],
             [
              0.4444444444444444,
              "#bd3786"
             ],
             [
              0.5555555555555556,
              "#d8576b"
             ],
             [
              0.6666666666666666,
              "#ed7953"
             ],
             [
              0.7777777777777778,
              "#fb9f3a"
             ],
             [
              0.8888888888888888,
              "#fdca26"
             ],
             [
              1,
              "#f0f921"
             ]
            ],
            "type": "heatmap"
           }
          ],
          "heatmapgl": [
           {
            "colorbar": {
             "outlinewidth": 0,
             "ticks": ""
            },
            "colorscale": [
             [
              0,
              "#0d0887"
             ],
             [
              0.1111111111111111,
              "#46039f"
             ],
             [
              0.2222222222222222,
              "#7201a8"
             ],
             [
              0.3333333333333333,
              "#9c179e"
             ],
             [
              0.4444444444444444,
              "#bd3786"
             ],
             [
              0.5555555555555556,
              "#d8576b"
             ],
             [
              0.6666666666666666,
              "#ed7953"
             ],
             [
              0.7777777777777778,
              "#fb9f3a"
             ],
             [
              0.8888888888888888,
              "#fdca26"
             ],
             [
              1,
              "#f0f921"
             ]
            ],
            "type": "heatmapgl"
           }
          ],
          "histogram": [
           {
            "marker": {
             "pattern": {
              "fillmode": "overlay",
              "size": 10,
              "solidity": 0.2
             }
            },
            "type": "histogram"
           }
          ],
          "histogram2d": [
           {
            "colorbar": {
             "outlinewidth": 0,
             "ticks": ""
            },
            "colorscale": [
             [
              0,
              "#0d0887"
             ],
             [
              0.1111111111111111,
              "#46039f"
             ],
             [
              0.2222222222222222,
              "#7201a8"
             ],
             [
              0.3333333333333333,
              "#9c179e"
             ],
             [
              0.4444444444444444,
              "#bd3786"
             ],
             [
              0.5555555555555556,
              "#d8576b"
             ],
             [
              0.6666666666666666,
              "#ed7953"
             ],
             [
              0.7777777777777778,
              "#fb9f3a"
             ],
             [
              0.8888888888888888,
              "#fdca26"
             ],
             [
              1,
              "#f0f921"
             ]
            ],
            "type": "histogram2d"
           }
          ],
          "histogram2dcontour": [
           {
            "colorbar": {
             "outlinewidth": 0,
             "ticks": ""
            },
            "colorscale": [
             [
              0,
              "#0d0887"
             ],
             [
              0.1111111111111111,
              "#46039f"
             ],
             [
              0.2222222222222222,
              "#7201a8"
             ],
             [
              0.3333333333333333,
              "#9c179e"
             ],
             [
              0.4444444444444444,
              "#bd3786"
             ],
             [
              0.5555555555555556,
              "#d8576b"
             ],
             [
              0.6666666666666666,
              "#ed7953"
             ],
             [
              0.7777777777777778,
              "#fb9f3a"
             ],
             [
              0.8888888888888888,
              "#fdca26"
             ],
             [
              1,
              "#f0f921"
             ]
            ],
            "type": "histogram2dcontour"
           }
          ],
          "mesh3d": [
           {
            "colorbar": {
             "outlinewidth": 0,
             "ticks": ""
            },
            "type": "mesh3d"
           }
          ],
          "parcoords": [
           {
            "line": {
             "colorbar": {
              "outlinewidth": 0,
              "ticks": ""
             }
            },
            "type": "parcoords"
           }
          ],
          "pie": [
           {
            "automargin": true,
            "type": "pie"
           }
          ],
          "scatter": [
           {
            "fillpattern": {
             "fillmode": "overlay",
             "size": 10,
             "solidity": 0.2
            },
            "type": "scatter"
           }
          ],
          "scatter3d": [
           {
            "line": {
             "colorbar": {
              "outlinewidth": 0,
              "ticks": ""
             }
            },
            "marker": {
             "colorbar": {
              "outlinewidth": 0,
              "ticks": ""
             }
            },
            "type": "scatter3d"
           }
          ],
          "scattercarpet": [
           {
            "marker": {
             "colorbar": {
              "outlinewidth": 0,
              "ticks": ""
             }
            },
            "type": "scattercarpet"
           }
          ],
          "scattergeo": [
           {
            "marker": {
             "colorbar": {
              "outlinewidth": 0,
              "ticks": ""
             }
            },
            "type": "scattergeo"
           }
          ],
          "scattergl": [
           {
            "marker": {
             "colorbar": {
              "outlinewidth": 0,
              "ticks": ""
             }
            },
            "type": "scattergl"
           }
          ],
          "scattermapbox": [
           {
            "marker": {
             "colorbar": {
              "outlinewidth": 0,
              "ticks": ""
             }
            },
            "type": "scattermapbox"
           }
          ],
          "scatterpolar": [
           {
            "marker": {
             "colorbar": {
              "outlinewidth": 0,
              "ticks": ""
             }
            },
            "type": "scatterpolar"
           }
          ],
          "scatterpolargl": [
           {
            "marker": {
             "colorbar": {
              "outlinewidth": 0,
              "ticks": ""
             }
            },
            "type": "scatterpolargl"
           }
          ],
          "scatterternary": [
           {
            "marker": {
             "colorbar": {
              "outlinewidth": 0,
              "ticks": ""
             }
            },
            "type": "scatterternary"
           }
          ],
          "surface": [
           {
            "colorbar": {
             "outlinewidth": 0,
             "ticks": ""
            },
            "colorscale": [
             [
              0,
              "#0d0887"
             ],
             [
              0.1111111111111111,
              "#46039f"
             ],
             [
              0.2222222222222222,
              "#7201a8"
             ],
             [
              0.3333333333333333,
              "#9c179e"
             ],
             [
              0.4444444444444444,
              "#bd3786"
             ],
             [
              0.5555555555555556,
              "#d8576b"
             ],
             [
              0.6666666666666666,
              "#ed7953"
             ],
             [
              0.7777777777777778,
              "#fb9f3a"
             ],
             [
              0.8888888888888888,
              "#fdca26"
             ],
             [
              1,
              "#f0f921"
             ]
            ],
            "type": "surface"
           }
          ],
          "table": [
           {
            "cells": {
             "fill": {
              "color": "#EBF0F8"
             },
             "line": {
              "color": "white"
             }
            },
            "header": {
             "fill": {
              "color": "#C8D4E3"
             },
             "line": {
              "color": "white"
             }
            },
            "type": "table"
           }
          ]
         },
         "layout": {
          "annotationdefaults": {
           "arrowcolor": "#2a3f5f",
           "arrowhead": 0,
           "arrowwidth": 1
          },
          "autotypenumbers": "strict",
          "coloraxis": {
           "colorbar": {
            "outlinewidth": 0,
            "ticks": ""
           }
          },
          "colorscale": {
           "diverging": [
            [
             0,
             "#8e0152"
            ],
            [
             0.1,
             "#c51b7d"
            ],
            [
             0.2,
             "#de77ae"
            ],
            [
             0.3,
             "#f1b6da"
            ],
            [
             0.4,
             "#fde0ef"
            ],
            [
             0.5,
             "#f7f7f7"
            ],
            [
             0.6,
             "#e6f5d0"
            ],
            [
             0.7,
             "#b8e186"
            ],
            [
             0.8,
             "#7fbc41"
            ],
            [
             0.9,
             "#4d9221"
            ],
            [
             1,
             "#276419"
            ]
           ],
           "sequential": [
            [
             0,
             "#0d0887"
            ],
            [
             0.1111111111111111,
             "#46039f"
            ],
            [
             0.2222222222222222,
             "#7201a8"
            ],
            [
             0.3333333333333333,
             "#9c179e"
            ],
            [
             0.4444444444444444,
             "#bd3786"
            ],
            [
             0.5555555555555556,
             "#d8576b"
            ],
            [
             0.6666666666666666,
             "#ed7953"
            ],
            [
             0.7777777777777778,
             "#fb9f3a"
            ],
            [
             0.8888888888888888,
             "#fdca26"
            ],
            [
             1,
             "#f0f921"
            ]
           ],
           "sequentialminus": [
            [
             0,
             "#0d0887"
            ],
            [
             0.1111111111111111,
             "#46039f"
            ],
            [
             0.2222222222222222,
             "#7201a8"
            ],
            [
             0.3333333333333333,
             "#9c179e"
            ],
            [
             0.4444444444444444,
             "#bd3786"
            ],
            [
             0.5555555555555556,
             "#d8576b"
            ],
            [
             0.6666666666666666,
             "#ed7953"
            ],
            [
             0.7777777777777778,
             "#fb9f3a"
            ],
            [
             0.8888888888888888,
             "#fdca26"
            ],
            [
             1,
             "#f0f921"
            ]
           ]
          },
          "colorway": [
           "#636efa",
           "#EF553B",
           "#00cc96",
           "#ab63fa",
           "#FFA15A",
           "#19d3f3",
           "#FF6692",
           "#B6E880",
           "#FF97FF",
           "#FECB52"
          ],
          "font": {
           "color": "#2a3f5f"
          },
          "geo": {
           "bgcolor": "white",
           "lakecolor": "white",
           "landcolor": "#E5ECF6",
           "showlakes": true,
           "showland": true,
           "subunitcolor": "white"
          },
          "hoverlabel": {
           "align": "left"
          },
          "hovermode": "closest",
          "mapbox": {
           "style": "light"
          },
          "paper_bgcolor": "white",
          "plot_bgcolor": "#E5ECF6",
          "polar": {
           "angularaxis": {
            "gridcolor": "white",
            "linecolor": "white",
            "ticks": ""
           },
           "bgcolor": "#E5ECF6",
           "radialaxis": {
            "gridcolor": "white",
            "linecolor": "white",
            "ticks": ""
           }
          },
          "scene": {
           "xaxis": {
            "backgroundcolor": "#E5ECF6",
            "gridcolor": "white",
            "gridwidth": 2,
            "linecolor": "white",
            "showbackground": true,
            "ticks": "",
            "zerolinecolor": "white"
           },
           "yaxis": {
            "backgroundcolor": "#E5ECF6",
            "gridcolor": "white",
            "gridwidth": 2,
            "linecolor": "white",
            "showbackground": true,
            "ticks": "",
            "zerolinecolor": "white"
           },
           "zaxis": {
            "backgroundcolor": "#E5ECF6",
            "gridcolor": "white",
            "gridwidth": 2,
            "linecolor": "white",
            "showbackground": true,
            "ticks": "",
            "zerolinecolor": "white"
           }
          },
          "shapedefaults": {
           "line": {
            "color": "#2a3f5f"
           }
          },
          "ternary": {
           "aaxis": {
            "gridcolor": "white",
            "linecolor": "white",
            "ticks": ""
           },
           "baxis": {
            "gridcolor": "white",
            "linecolor": "white",
            "ticks": ""
           },
           "bgcolor": "#E5ECF6",
           "caxis": {
            "gridcolor": "white",
            "linecolor": "white",
            "ticks": ""
           }
          },
          "title": {
           "x": 0.05
          },
          "xaxis": {
           "automargin": true,
           "gridcolor": "white",
           "linecolor": "white",
           "ticks": "",
           "title": {
            "standoff": 15
           },
           "zerolinecolor": "white",
           "zerolinewidth": 2
          },
          "yaxis": {
           "automargin": true,
           "gridcolor": "white",
           "linecolor": "white",
           "ticks": "",
           "title": {
            "standoff": 15
           },
           "zerolinecolor": "white",
           "zerolinewidth": 2
          }
         }
        },
        "title": {
         "text": "Top 15 Features Selected by SelectKBest"
        },
        "xaxis": {
         "anchor": "y",
         "domain": [
          0,
          1
         ],
         "title": {
          "text": "Score"
         }
        },
        "yaxis": {
         "anchor": "x",
         "autorange": "reversed",
         "domain": [
          0,
          1
         ],
         "title": {
          "text": "Feature"
         }
        }
       }
      }
     },
     "metadata": {},
     "output_type": "display_data"
    },
    {
     "data": {
      "application/vnd.plotly.v1+json": {
       "config": {
        "plotlyServerURL": "https://plot.ly"
       },
       "data": [
        {
         "alignmentgroup": "True",
         "hovertemplate": "Score=%{x}<br>Feature=%{y}<extra></extra>",
         "legendgroup": "",
         "marker": {
          "color": "red",
          "pattern": {
           "shape": ""
          }
         },
         "name": "",
         "offsetgroup": "",
         "orientation": "h",
         "showlegend": false,
         "textposition": "auto",
         "type": "bar",
         "x": [
          0.000009795451838597997,
          0.000021602016304278302,
          0.00006248256533417145,
          0.0004627080511894706,
          0.0005452174090007048,
          0.001183065859035417,
          0.0019110163534534557,
          0.0021795389119714146,
          0.0030909746921945753,
          0.004052690711442561,
          0.0043415837075215045,
          0.004341732129497551,
          0.0043783631682465345,
          0.005932719598921957,
          0.006296398169355861
         ],
         "xaxis": "x",
         "y": [
          "release_day_of_year_23",
          "release_day_of_year_201",
          "release_day_of_year_209",
          "release_day_of_year_66",
          "release_day_of_year_315",
          "producers_Bob Weinstein",
          "writers_Luc Besson",
          "release_day_of_year_146",
          "release_day_of_year_17",
          "release_day_of_year_308",
          "release_day_of_year_334",
          "release_day_of_year_307",
          "genres_War",
          "release_day_of_year_7",
          "release_day_of_year_276"
         ],
         "yaxis": "y"
        }
       ],
       "layout": {
        "barmode": "relative",
        "height": 400,
        "legend": {
         "tracegroupgap": 0
        },
        "template": {
         "data": {
          "bar": [
           {
            "error_x": {
             "color": "#2a3f5f"
            },
            "error_y": {
             "color": "#2a3f5f"
            },
            "marker": {
             "line": {
              "color": "#E5ECF6",
              "width": 0.5
             },
             "pattern": {
              "fillmode": "overlay",
              "size": 10,
              "solidity": 0.2
             }
            },
            "type": "bar"
           }
          ],
          "barpolar": [
           {
            "marker": {
             "line": {
              "color": "#E5ECF6",
              "width": 0.5
             },
             "pattern": {
              "fillmode": "overlay",
              "size": 10,
              "solidity": 0.2
             }
            },
            "type": "barpolar"
           }
          ],
          "carpet": [
           {
            "aaxis": {
             "endlinecolor": "#2a3f5f",
             "gridcolor": "white",
             "linecolor": "white",
             "minorgridcolor": "white",
             "startlinecolor": "#2a3f5f"
            },
            "baxis": {
             "endlinecolor": "#2a3f5f",
             "gridcolor": "white",
             "linecolor": "white",
             "minorgridcolor": "white",
             "startlinecolor": "#2a3f5f"
            },
            "type": "carpet"
           }
          ],
          "choropleth": [
           {
            "colorbar": {
             "outlinewidth": 0,
             "ticks": ""
            },
            "type": "choropleth"
           }
          ],
          "contour": [
           {
            "colorbar": {
             "outlinewidth": 0,
             "ticks": ""
            },
            "colorscale": [
             [
              0,
              "#0d0887"
             ],
             [
              0.1111111111111111,
              "#46039f"
             ],
             [
              0.2222222222222222,
              "#7201a8"
             ],
             [
              0.3333333333333333,
              "#9c179e"
             ],
             [
              0.4444444444444444,
              "#bd3786"
             ],
             [
              0.5555555555555556,
              "#d8576b"
             ],
             [
              0.6666666666666666,
              "#ed7953"
             ],
             [
              0.7777777777777778,
              "#fb9f3a"
             ],
             [
              0.8888888888888888,
              "#fdca26"
             ],
             [
              1,
              "#f0f921"
             ]
            ],
            "type": "contour"
           }
          ],
          "contourcarpet": [
           {
            "colorbar": {
             "outlinewidth": 0,
             "ticks": ""
            },
            "type": "contourcarpet"
           }
          ],
          "heatmap": [
           {
            "colorbar": {
             "outlinewidth": 0,
             "ticks": ""
            },
            "colorscale": [
             [
              0,
              "#0d0887"
             ],
             [
              0.1111111111111111,
              "#46039f"
             ],
             [
              0.2222222222222222,
              "#7201a8"
             ],
             [
              0.3333333333333333,
              "#9c179e"
             ],
             [
              0.4444444444444444,
              "#bd3786"
             ],
             [
              0.5555555555555556,
              "#d8576b"
             ],
             [
              0.6666666666666666,
              "#ed7953"
             ],
             [
              0.7777777777777778,
              "#fb9f3a"
             ],
             [
              0.8888888888888888,
              "#fdca26"
             ],
             [
              1,
              "#f0f921"
             ]
            ],
            "type": "heatmap"
           }
          ],
          "heatmapgl": [
           {
            "colorbar": {
             "outlinewidth": 0,
             "ticks": ""
            },
            "colorscale": [
             [
              0,
              "#0d0887"
             ],
             [
              0.1111111111111111,
              "#46039f"
             ],
             [
              0.2222222222222222,
              "#7201a8"
             ],
             [
              0.3333333333333333,
              "#9c179e"
             ],
             [
              0.4444444444444444,
              "#bd3786"
             ],
             [
              0.5555555555555556,
              "#d8576b"
             ],
             [
              0.6666666666666666,
              "#ed7953"
             ],
             [
              0.7777777777777778,
              "#fb9f3a"
             ],
             [
              0.8888888888888888,
              "#fdca26"
             ],
             [
              1,
              "#f0f921"
             ]
            ],
            "type": "heatmapgl"
           }
          ],
          "histogram": [
           {
            "marker": {
             "pattern": {
              "fillmode": "overlay",
              "size": 10,
              "solidity": 0.2
             }
            },
            "type": "histogram"
           }
          ],
          "histogram2d": [
           {
            "colorbar": {
             "outlinewidth": 0,
             "ticks": ""
            },
            "colorscale": [
             [
              0,
              "#0d0887"
             ],
             [
              0.1111111111111111,
              "#46039f"
             ],
             [
              0.2222222222222222,
              "#7201a8"
             ],
             [
              0.3333333333333333,
              "#9c179e"
             ],
             [
              0.4444444444444444,
              "#bd3786"
             ],
             [
              0.5555555555555556,
              "#d8576b"
             ],
             [
              0.6666666666666666,
              "#ed7953"
             ],
             [
              0.7777777777777778,
              "#fb9f3a"
             ],
             [
              0.8888888888888888,
              "#fdca26"
             ],
             [
              1,
              "#f0f921"
             ]
            ],
            "type": "histogram2d"
           }
          ],
          "histogram2dcontour": [
           {
            "colorbar": {
             "outlinewidth": 0,
             "ticks": ""
            },
            "colorscale": [
             [
              0,
              "#0d0887"
             ],
             [
              0.1111111111111111,
              "#46039f"
             ],
             [
              0.2222222222222222,
              "#7201a8"
             ],
             [
              0.3333333333333333,
              "#9c179e"
             ],
             [
              0.4444444444444444,
              "#bd3786"
             ],
             [
              0.5555555555555556,
              "#d8576b"
             ],
             [
              0.6666666666666666,
              "#ed7953"
             ],
             [
              0.7777777777777778,
              "#fb9f3a"
             ],
             [
              0.8888888888888888,
              "#fdca26"
             ],
             [
              1,
              "#f0f921"
             ]
            ],
            "type": "histogram2dcontour"
           }
          ],
          "mesh3d": [
           {
            "colorbar": {
             "outlinewidth": 0,
             "ticks": ""
            },
            "type": "mesh3d"
           }
          ],
          "parcoords": [
           {
            "line": {
             "colorbar": {
              "outlinewidth": 0,
              "ticks": ""
             }
            },
            "type": "parcoords"
           }
          ],
          "pie": [
           {
            "automargin": true,
            "type": "pie"
           }
          ],
          "scatter": [
           {
            "fillpattern": {
             "fillmode": "overlay",
             "size": 10,
             "solidity": 0.2
            },
            "type": "scatter"
           }
          ],
          "scatter3d": [
           {
            "line": {
             "colorbar": {
              "outlinewidth": 0,
              "ticks": ""
             }
            },
            "marker": {
             "colorbar": {
              "outlinewidth": 0,
              "ticks": ""
             }
            },
            "type": "scatter3d"
           }
          ],
          "scattercarpet": [
           {
            "marker": {
             "colorbar": {
              "outlinewidth": 0,
              "ticks": ""
             }
            },
            "type": "scattercarpet"
           }
          ],
          "scattergeo": [
           {
            "marker": {
             "colorbar": {
              "outlinewidth": 0,
              "ticks": ""
             }
            },
            "type": "scattergeo"
           }
          ],
          "scattergl": [
           {
            "marker": {
             "colorbar": {
              "outlinewidth": 0,
              "ticks": ""
             }
            },
            "type": "scattergl"
           }
          ],
          "scattermapbox": [
           {
            "marker": {
             "colorbar": {
              "outlinewidth": 0,
              "ticks": ""
             }
            },
            "type": "scattermapbox"
           }
          ],
          "scatterpolar": [
           {
            "marker": {
             "colorbar": {
              "outlinewidth": 0,
              "ticks": ""
             }
            },
            "type": "scatterpolar"
           }
          ],
          "scatterpolargl": [
           {
            "marker": {
             "colorbar": {
              "outlinewidth": 0,
              "ticks": ""
             }
            },
            "type": "scatterpolargl"
           }
          ],
          "scatterternary": [
           {
            "marker": {
             "colorbar": {
              "outlinewidth": 0,
              "ticks": ""
             }
            },
            "type": "scatterternary"
           }
          ],
          "surface": [
           {
            "colorbar": {
             "outlinewidth": 0,
             "ticks": ""
            },
            "colorscale": [
             [
              0,
              "#0d0887"
             ],
             [
              0.1111111111111111,
              "#46039f"
             ],
             [
              0.2222222222222222,
              "#7201a8"
             ],
             [
              0.3333333333333333,
              "#9c179e"
             ],
             [
              0.4444444444444444,
              "#bd3786"
             ],
             [
              0.5555555555555556,
              "#d8576b"
             ],
             [
              0.6666666666666666,
              "#ed7953"
             ],
             [
              0.7777777777777778,
              "#fb9f3a"
             ],
             [
              0.8888888888888888,
              "#fdca26"
             ],
             [
              1,
              "#f0f921"
             ]
            ],
            "type": "surface"
           }
          ],
          "table": [
           {
            "cells": {
             "fill": {
              "color": "#EBF0F8"
             },
             "line": {
              "color": "white"
             }
            },
            "header": {
             "fill": {
              "color": "#C8D4E3"
             },
             "line": {
              "color": "white"
             }
            },
            "type": "table"
           }
          ]
         },
         "layout": {
          "annotationdefaults": {
           "arrowcolor": "#2a3f5f",
           "arrowhead": 0,
           "arrowwidth": 1
          },
          "autotypenumbers": "strict",
          "coloraxis": {
           "colorbar": {
            "outlinewidth": 0,
            "ticks": ""
           }
          },
          "colorscale": {
           "diverging": [
            [
             0,
             "#8e0152"
            ],
            [
             0.1,
             "#c51b7d"
            ],
            [
             0.2,
             "#de77ae"
            ],
            [
             0.3,
             "#f1b6da"
            ],
            [
             0.4,
             "#fde0ef"
            ],
            [
             0.5,
             "#f7f7f7"
            ],
            [
             0.6,
             "#e6f5d0"
            ],
            [
             0.7,
             "#b8e186"
            ],
            [
             0.8,
             "#7fbc41"
            ],
            [
             0.9,
             "#4d9221"
            ],
            [
             1,
             "#276419"
            ]
           ],
           "sequential": [
            [
             0,
             "#0d0887"
            ],
            [
             0.1111111111111111,
             "#46039f"
            ],
            [
             0.2222222222222222,
             "#7201a8"
            ],
            [
             0.3333333333333333,
             "#9c179e"
            ],
            [
             0.4444444444444444,
             "#bd3786"
            ],
            [
             0.5555555555555556,
             "#d8576b"
            ],
            [
             0.6666666666666666,
             "#ed7953"
            ],
            [
             0.7777777777777778,
             "#fb9f3a"
            ],
            [
             0.8888888888888888,
             "#fdca26"
            ],
            [
             1,
             "#f0f921"
            ]
           ],
           "sequentialminus": [
            [
             0,
             "#0d0887"
            ],
            [
             0.1111111111111111,
             "#46039f"
            ],
            [
             0.2222222222222222,
             "#7201a8"
            ],
            [
             0.3333333333333333,
             "#9c179e"
            ],
            [
             0.4444444444444444,
             "#bd3786"
            ],
            [
             0.5555555555555556,
             "#d8576b"
            ],
            [
             0.6666666666666666,
             "#ed7953"
            ],
            [
             0.7777777777777778,
             "#fb9f3a"
            ],
            [
             0.8888888888888888,
             "#fdca26"
            ],
            [
             1,
             "#f0f921"
            ]
           ]
          },
          "colorway": [
           "#636efa",
           "#EF553B",
           "#00cc96",
           "#ab63fa",
           "#FFA15A",
           "#19d3f3",
           "#FF6692",
           "#B6E880",
           "#FF97FF",
           "#FECB52"
          ],
          "font": {
           "color": "#2a3f5f"
          },
          "geo": {
           "bgcolor": "white",
           "lakecolor": "white",
           "landcolor": "#E5ECF6",
           "showlakes": true,
           "showland": true,
           "subunitcolor": "white"
          },
          "hoverlabel": {
           "align": "left"
          },
          "hovermode": "closest",
          "mapbox": {
           "style": "light"
          },
          "paper_bgcolor": "white",
          "plot_bgcolor": "#E5ECF6",
          "polar": {
           "angularaxis": {
            "gridcolor": "white",
            "linecolor": "white",
            "ticks": ""
           },
           "bgcolor": "#E5ECF6",
           "radialaxis": {
            "gridcolor": "white",
            "linecolor": "white",
            "ticks": ""
           }
          },
          "scene": {
           "xaxis": {
            "backgroundcolor": "#E5ECF6",
            "gridcolor": "white",
            "gridwidth": 2,
            "linecolor": "white",
            "showbackground": true,
            "ticks": "",
            "zerolinecolor": "white"
           },
           "yaxis": {
            "backgroundcolor": "#E5ECF6",
            "gridcolor": "white",
            "gridwidth": 2,
            "linecolor": "white",
            "showbackground": true,
            "ticks": "",
            "zerolinecolor": "white"
           },
           "zaxis": {
            "backgroundcolor": "#E5ECF6",
            "gridcolor": "white",
            "gridwidth": 2,
            "linecolor": "white",
            "showbackground": true,
            "ticks": "",
            "zerolinecolor": "white"
           }
          },
          "shapedefaults": {
           "line": {
            "color": "#2a3f5f"
           }
          },
          "ternary": {
           "aaxis": {
            "gridcolor": "white",
            "linecolor": "white",
            "ticks": ""
           },
           "baxis": {
            "gridcolor": "white",
            "linecolor": "white",
            "ticks": ""
           },
           "bgcolor": "#E5ECF6",
           "caxis": {
            "gridcolor": "white",
            "linecolor": "white",
            "ticks": ""
           }
          },
          "title": {
           "x": 0.05
          },
          "xaxis": {
           "automargin": true,
           "gridcolor": "white",
           "linecolor": "white",
           "ticks": "",
           "title": {
            "standoff": 15
           },
           "zerolinecolor": "white",
           "zerolinewidth": 2
          },
          "yaxis": {
           "automargin": true,
           "gridcolor": "white",
           "linecolor": "white",
           "ticks": "",
           "title": {
            "standoff": 15
           },
           "zerolinecolor": "white",
           "zerolinewidth": 2
          }
         }
        },
        "title": {
         "text": "Worst 15 Features Selected by SelectKBest"
        },
        "xaxis": {
         "anchor": "y",
         "domain": [
          0,
          1
         ],
         "title": {
          "text": "Score"
         }
        },
        "yaxis": {
         "anchor": "x",
         "autorange": "reversed",
         "domain": [
          0,
          1
         ],
         "title": {
          "text": "Feature"
         }
        }
       }
      }
     },
     "metadata": {},
     "output_type": "display_data"
    }
   ],
   "source": [
    "import pandas as pd\n",
    "import time\n",
    "import plotly.express as px\n",
    "from sklearn.feature_selection import SelectKBest, f_regression\n",
    "import numpy as np\n",
    "\n",
    "# ========================\n",
    "# Step 6: SelectKBest Feature Selection and Analysis\n",
    "# ========================\n",
    "\n",
    "# Step 3: Initialize SelectKBest with a reasonable value to limit computation time\n",
    "start_time = time.time()\n",
    "max_time = 5 * 60  # 5 minutes in seconds\n",
    "k = 300  # Start with 10 features, adjust as needed\n",
    "\n",
    "# Transform the training data (fit transform to ensure it adapts to changes in data and transformations)\n",
    "X_train_transformed = preprocessor.fit_transform(X_train)\n",
    "\n",
    "# Dynamically adjust k to ensure computation stays within 5 minutes\n",
    "top_features_found = False\n",
    "while not top_features_found:\n",
    "    selector = SelectKBest(score_func=f_regression, k=k)\n",
    "    try:\n",
    "        # Fit selector to data\n",
    "        selector.fit(X_train_transformed, y_train)\n",
    "        end_time = time.time()\n",
    "        elapsed_time = end_time - start_time\n",
    "\n",
    "        # Check if the process is within the max time allowed\n",
    "        if elapsed_time < max_time:\n",
    "            top_features_found = True\n",
    "        else:\n",
    "            k = max(1, k - 1)  # Decrease k to reduce computation time if necessary\n",
    "    except MemoryError:\n",
    "        # In case of memory error, reduce k\n",
    "        k = max(1, k - 1)\n",
    "\n",
    "# Step 4: Get the top features and their scores\n",
    "mask = selector.get_support()  # Get the mask of selected features\n",
    "\n",
    "# Extract feature names from the preprocessor\n",
    "all_feature_names = []\n",
    "for name, transformer, columns in preprocessor.transformers_:\n",
    "    if name == 'cast':\n",
    "        all_feature_names.extend([f\"cast_{entity}\" for entity in transformer.top_entities])\n",
    "    elif name == 'cat':\n",
    "        for col in columns:\n",
    "            top_entities = transformer.top_entities.get(col, [])\n",
    "            all_feature_names.extend([f\"{col}_{entity}\" for entity in top_entities])\n",
    "    elif name == 'date':\n",
    "        if hasattr(transformer.named_steps['onehot'], 'categories_'):\n",
    "            categories = transformer.named_steps['onehot'].categories_\n",
    "            feature_names = [f\"{col}_{val}\" for col, cats in zip(columns, categories) for val in cats]\n",
    "            all_feature_names.extend(feature_names)\n",
    "    elif name == 'num':\n",
    "        all_feature_names.extend(columns)\n",
    "    else:\n",
    "        all_feature_names.extend(columns)\n",
    "\n",
    "selected_features = np.array(all_feature_names)[mask]\n",
    "feature_scores = selector.scores_[mask]\n",
    "\n",
    "# Step 5: Create a DataFrame to view the top features and their scores\n",
    "top_features_df = pd.DataFrame({\n",
    "    'Feature': selected_features,\n",
    "    'Score': feature_scores\n",
    "}).sort_values(by='Score', ascending=False)\n",
    "\n",
    "# Step 6: Display the top features\n",
    "print(\"\\nTop Features Selected by SelectKBest:\")\n",
    "print(top_features_df)\n",
    "\n",
    "# Save the top features DataFrame to CSV\n",
    "top_features_df.to_csv('./data/top_features_selectkbest.csv', index=False)\n",
    "\n",
    "# Step 7: User input to choose number of top features for plotting\n",
    "n = int(input(\"Enter number of top features to display: \"))\n",
    "\n",
    "# Select the top n features for plotting\n",
    "top_n_features_df = top_features_df.head(n)\n",
    "\n",
    "fig = px.bar(\n",
    "    top_n_features_df,\n",
    "    x='Score',\n",
    "    y='Feature',\n",
    "    orientation='h',\n",
    "    title=f'Top {n} Features Selected by SelectKBest',\n",
    "    labels={'Score': 'Score', 'Feature': 'Feature'},\n",
    "    height=400,  # Adjust the height as necessary\n",
    ")\n",
    "\n",
    "# Invert the y-axis to have the highest score on top\n",
    "fig.update_layout(yaxis=dict(autorange='reversed'))\n",
    "\n",
    "# Show the interactive plot\n",
    "fig.show()\n",
    "\n",
    "# Step 8: Identify and display worst features\n",
    "worst_features_df = pd.DataFrame({\n",
    "    'Feature': all_feature_names,\n",
    "    'Score': selector.scores_\n",
    "}).sort_values(by='Score', ascending=True)\n",
    "\n",
    "# Save the worst features DataFrame to CSV\n",
    "worst_features_df.to_csv('./data/worst_features_selectkbest.csv', index=False)\n",
    "\n",
    "# Step 9: User input to choose number of worst features for plotting\n",
    "n_worst = int(input(\"Enter number of worst features to display: \"))\n",
    "\n",
    "# Select the worst n features for plotting\n",
    "worst_n_features_df = worst_features_df.head(n_worst)\n",
    "\n",
    "fig_worst = px.bar(\n",
    "    worst_n_features_df,\n",
    "    x='Score',\n",
    "    y='Feature',\n",
    "    orientation='h',\n",
    "    title=f'Worst {n_worst} Features Selected by SelectKBest',\n",
    "    labels={'Score': 'Score', 'Feature': 'Feature'},\n",
    "    height=400,  # Adjust the height as necessary\n",
    "    color_discrete_sequence=['red']\n",
    ")\n",
    "\n",
    "# Invert the y-axis to have the lowest score on top\n",
    "fig_worst.update_layout(yaxis=dict(autorange='reversed'))\n",
    "\n",
    "# Show the interactive plot\n",
    "fig_worst.show()"
   ]
  },
  {
   "cell_type": "markdown",
   "metadata": {},
   "source": [
    ">**Observation:**\n",
    ">\n",
    "> - The top features, including `adjusted_budget`, `normalized_vote_average`, and notable personnel (e.g., `cast_Stan Lee`, `music_composer_Hans Zimmer`), provide insights into what factors drive revenue.\n",
    "> - `adjusted_budget` is particularly influential, reinforcing that higher budgets are strongly correlated with revenue success, aligning with business expectations in the movie industry.\n",
    "> - Inclusion of personnel like `Stan Lee` and `Hans Zimmer` highlights that well-known talents can significantly affect revenue, a valuable insight for strategic casting and crew decisions.\n",
    "> - On the other hand, features such as `producers_Bob Weinstein` and certain specific release days have minimal impact. For instance, `release_day_of_year_23` and `release_day_of_year_7` show low relevance to revenue prediction, indicating that these specifics likely don’t contribute significantly to a movie’s financial outcome.\n",
    "> - Importantly, while `SelectKBest` helps in model optimization by filtering features, it doesn't directly influence revenue prediction accuracy. Instead, it streamlines the model by focusing on impactful \n"
   ]
  },
  {
   "cell_type": "markdown",
   "metadata": {},
   "source": [
    "#### Select your movie and features to change to see the impact"
   ]
  },
  {
   "cell_type": "code",
   "execution_count": null,
   "metadata": {},
   "outputs": [
    {
     "name": "stdout",
     "output_type": "stream",
     "text": [
      "\n",
      "Predicted Adjusted Revenue: 283562696.60\n",
      "Predicted ROI: 0.45\n",
      "Predicted Success (1 = Success, 0 = Failure): 0\n",
      "\n",
      "Comparison of Predicted vs Actual Adjusted Revenue for Selected Movie:\n",
      "      predicted_adjusted_revenue  actual_adjusted_revenue  \\\n",
      "5033                2.835627e+08              164959127.0   \n",
      "\n",
      "      prediction_error_ratio  \n",
      "5033                0.718988  \n"
     ]
    }
   ],
   "source": [
    "# Refined Cell 2: Select movie by ID from df and predict success or failure\n",
    "# Prompt user to select a movie by ID\n",
    "movie_id = int(input(\"Enter the ID of the movie you want to evaluate: \"))\n",
    "\n",
    "# Extract the selected movie data by ID\n",
    "selected_movie = df.loc[movie_id].copy()\n",
    "\n",
    "# Handle multiple entities in categorical features (split if necessary)\n",
    "for feature in all_features:\n",
    "    if isinstance(selected_movie[feature], str):\n",
    "        selected_movie[feature] = selected_movie[feature].split(',') if pd.notna(selected_movie[feature]) else []\n",
    "\n",
    "# Convert selected_movie into a DataFrame for transformation\n",
    "selected_movie_df = pd.DataFrame([selected_movie])\n",
    "\n",
    "# Handle lists by joining them back into strings for the preprocessor\n",
    "for feature in all_features:\n",
    "    if isinstance(selected_movie_df.at[selected_movie_df.index[0], feature], list):\n",
    "        selected_movie_df[feature] = selected_movie_df[feature].apply(lambda x: ', '.join(x) if isinstance(x, list) else x)\n",
    "\n",
    "# Transform the selected movie's data using the loaded preprocessor\n",
    "selected_movie_transformed = pipeline_loaded.named_steps['preprocessor'].transform(selected_movie_df)\n",
    "\n",
    "# Predict adjusted revenue using the loaded model\n",
    "y_pred_selected_movie = pipeline_loaded.named_steps['model'].predict(selected_movie_transformed)\n",
    "\n",
    "# Calculate ROI and determine success or failure\n",
    "adjusted_budget = selected_movie_df['adjusted_budget'].values[0]  # Extracting adjusted_budget\n",
    "roi = (y_pred_selected_movie[0] - adjusted_budget) / adjusted_budget  # ROI calculation\n",
    "success_failure = int(roi > 1)  # 1 for Success, 0 for Failure\n",
    "\n",
    "# Display the prediction\n",
    "print(\"\\nPredicted Adjusted Revenue: {:.2f}\".format(y_pred_selected_movie[0]))\n",
    "print(\"Predicted ROI: {:.2f}\".format(roi))\n",
    "print(\"Predicted Success (1 = Success, 0 = Failure):\", success_failure)\n",
    "\n",
    "# Cell 3: Create a DataFrame to compare the predicted and real values and calculate error\n",
    "# Add a new row to compare predicted adjusted revenue with the actual one from the DataFrame\n",
    "selected_movie_df['predicted_adjusted_revenue'] = y_pred_selected_movie\n",
    "selected_movie_df['actual_adjusted_revenue'] = df.loc[movie_id, 'adjusted_revenue']\n",
    "selected_movie_df['prediction_error_ratio'] = np.abs(selected_movie_df['predicted_adjusted_revenue'] - selected_movie_df['actual_adjusted_revenue']) / selected_movie_df['actual_adjusted_revenue']\n",
    "\n",
    "# Display the comparison DataFrame\n",
    "print(\"\\nComparison of Predicted vs Actual Adjusted Revenue for Selected Movie:\")\n",
    "print(selected_movie_df[['predicted_adjusted_revenue', 'actual_adjusted_revenue', 'prediction_error_ratio']])\n",
    "\n",
    "# Optional: Save the comparison results to a CSV\n",
    "selected_movie_df.to_csv('./data/comparison_selected_movie.csv', index=False)\n"
   ]
  },
  {
   "cell_type": "code",
   "execution_count": null,
   "metadata": {},
   "outputs": [
    {
     "name": "stdout",
     "output_type": "stream",
     "text": [
      "\n",
      "Updated prediction after modifying feature cast: \n",
      "          cast  predicted_adjusted_revenue\n",
      "5033  Stan Lee                2.915713e+08\n",
      "\n",
      "Comparison DataFrame:\n",
      "                   movie_version  movie_id                title  \\\n",
      "0                        genuine      5033  Joker: Folie à Deux   \n",
      "1                      predicted      5033  Joker: Folie à Deux   \n",
      "2  duplicated_with_modifications      5033  Joker: Folie à Deux   \n",
      "\n",
      "   predicted_adjusted_revenue       roi  success_failure  \\\n",
      "0                1.649591e+08       NaN              NaN   \n",
      "1                2.835627e+08  0.454168              0.0   \n",
      "2                2.915713e+08  0.495238              0.0   \n",
      "\n",
      "                                                cast  \n",
      "0  George Carroll,  Mac Brandt,  Joe Spinney,  Ke...  \n",
      "1  George Carroll,  Mac Brandt,  Joe Spinney,  Ke...  \n",
      "2                                           Stan Lee  \n",
      "Comparison DataFrame saved to ./data/comparison_all_versions_2.csv\n"
     ]
    }
   ],
   "source": [
    "# Step 1: Duplicate the selected movie\n",
    "duplicated_movie = selected_movie.copy()\n",
    "\n",
    "# Step 2: Let the user decide the number of features they want to modify\n",
    "num_features_to_modify = int(input(\"Enter the number of features you want to modify: \"))\n",
    "features_to_modify = []\n",
    "\n",
    "for i in range(num_features_to_modify):\n",
    "    # Step 3: User selects the feature to modify\n",
    "    feature_to_modify = input(f\"Enter feature {i + 1} to modify (choose from {all_features}): \")\n",
    "    features_to_modify.append(feature_to_modify)\n",
    "    \n",
    "    # Step 4: User decides whether to replace or extend existing entities\n",
    "    modify_choice = input(f\"Do you want to replace all existing entities for {feature_to_modify} with new ones? (yes/no): \")\n",
    "    if modify_choice.lower() == 'yes':\n",
    "        duplicated_movie[feature_to_modify] = []\n",
    "    \n",
    "    # Step 5: User decides how many entities to add\n",
    "    while True:\n",
    "        try:\n",
    "            num_entities_to_add = int(input(f\"How many entities do you want to add to {feature_to_modify}? \"))\n",
    "            break\n",
    "        except ValueError:\n",
    "            print(\"Invalid input. Please enter a valid number.\")\n",
    "    new_entities = []\n",
    "    for j in range(num_entities_to_add):\n",
    "        new_entity = input(f\"Enter new entity {j + 1} for feature {feature_to_modify}: \")\n",
    "        new_entities.append(new_entity.strip())\n",
    "    \n",
    "    \n",
    "    if modify_choice.lower() == 'yes':\n",
    "        duplicated_movie[feature_to_modify] = new_entities\n",
    "    else:\n",
    "        if pd.notna(duplicated_movie[feature_to_modify]).any():\n",
    "            if isinstance(duplicated_movie[feature_to_modify], list):\n",
    "                duplicated_movie[feature_to_modify].extend(new_entities)\n",
    "            else:\n",
    "                duplicated_movie[feature_to_modify] = [duplicated_movie[feature_to_modify]] + new_entities\n",
    "        else:\n",
    "            duplicated_movie[feature_to_modify] = new_entities\n",
    "    \n",
    "    # Step 6: Convert duplicated_movie into a DataFrame for transformation\n",
    "    duplicated_movie_df = pd.DataFrame([duplicated_movie])\n",
    "    \n",
    "    # Handle lists by joining them back into strings for the preprocessor\n",
    "    for feature in all_features:\n",
    "        if isinstance(duplicated_movie_df.at[duplicated_movie_df.index[0], feature], list):\n",
    "            duplicated_movie_df[feature] = duplicated_movie_df[feature].apply(lambda x: ', '.join(x) if isinstance(x, list) else x)\n",
    "    \n",
    "    # Fit OneHotEncoder again to make sure it adapts to new genres\n",
    "    preprocessor = pipeline_loaded.named_steps['preprocessor']\n",
    "    if 'onehot' in preprocessor.named_transformers_:\n",
    "        onehot_encoder = preprocessor.named_transformers_['onehot']\n",
    "        onehot_encoder.fit(pd.concat([df[other_categorical_features], duplicated_movie_df[other_categorical_features]], axis=0))\n",
    "\n",
    "    # Step 7: Transform the duplicated movie's data using the updated preprocessor\n",
    "    duplicated_movie_transformed = preprocessor.transform(duplicated_movie_df)\n",
    "\n",
    "    # Step 8: Predict adjusted revenue for the duplicated movie\n",
    "    y_pred_duplicated_movie = pipeline_loaded.named_steps['model'].predict(duplicated_movie_transformed)\n",
    "\n",
    "    # Step 9: Add predictions to the DataFrame for comparison\n",
    "    duplicated_movie_df['predicted_adjusted_revenue'] = y_pred_duplicated_movie\n",
    "\n",
    "    # Step 10: Display the updated DataFrame\n",
    "    print(\"\\nUpdated prediction after modifying feature {}: \".format(feature_to_modify))\n",
    "    print(duplicated_movie_df[[feature_to_modify, 'predicted_adjusted_revenue']])\n",
    "    \n",
    "# Step 11: Create a DataFrame to compare genuine movie, original prediction, and modified prediction\n",
    "# Add movie title to comparison data\n",
    "movie_title = selected_movie_df['title'].values[0] if 'title' in selected_movie_df.columns else 'Unknown'\n",
    "\n",
    "comparison_data = {\n",
    "    'movie_version': ['genuine', 'predicted', 'duplicated_with_modifications'],\n",
    "    'movie_id': [selected_movie_df.index[0]] * 3,\n",
    "    'title': [movie_title] * 3,\n",
    "    'movie_version': ['genuine', 'predicted', 'duplicated_with_modifications'],\n",
    "    'predicted_adjusted_revenue': [\n",
    "        selected_movie_df['actual_adjusted_revenue'].values[0],\n",
    "        selected_movie_df['predicted_adjusted_revenue'].values[0],\n",
    "        duplicated_movie_df['predicted_adjusted_revenue'].values[0]\n",
    "    ],\n",
    "    'roi': [\n",
    "        None, \n",
    "        roi, \n",
    "        (y_pred_duplicated_movie[0] - adjusted_budget) / adjusted_budget\n",
    "    ],\n",
    "    'success_failure': [\n",
    "        None, \n",
    "        success_failure, \n",
    "        int((y_pred_duplicated_movie[0] - adjusted_budget) / adjusted_budget > 1)\n",
    "    ]\n",
    "}\n",
    "for feature in features_to_modify:\n",
    "    comparison_data[feature] = [\n",
    "        selected_movie_df[feature].values[0],\n",
    "        selected_movie_df[feature].values[0],\n",
    "        duplicated_movie_df[feature].values[0]\n",
    "    ]\n",
    "\n",
    "comparison_df = pd.DataFrame(comparison_data)\n",
    "\n",
    "# Step 12: Display the comparison DataFrame\n",
    "print(\"\\nComparison DataFrame:\")\n",
    "print(comparison_df)\n",
    "\n",
    "# Optional: Save the comparison DataFrame to a CSV with an incremented filename to keep historical records\n",
    "import os\n",
    "\n",
    "# Find the latest version number for the comparison file\n",
    "comparison_files = [f for f in os.listdir('./data') if f.startswith('comparison_all_versions_') and f.endswith('.csv')]\n",
    "if comparison_files:\n",
    "    latest_version = max([int(f.split('_')[-1].replace('.csv', '')) for f in comparison_files])\n",
    "    new_version = latest_version + 1\n",
    "else:\n",
    "    new_version = 1\n",
    "\n",
    "# Save the comparison DataFrame to a new CSV file\n",
    "comparison_filename = f'./data/comparison_all_versions_{new_version}.csv'\n",
    "comparison_df.to_csv(comparison_filename, index=False)\n",
    "print(f\"Comparison DataFrame saved to {comparison_filename}\")\n"
   ]
  },
  {
   "cell_type": "markdown",
   "metadata": {},
   "source": [
    ">*Observation*:  \n",
    "> - By modifying top features such as `genres` and `music_composer`, the model predicts an increase in the `predicted_adjusted_revenue` from around 292 million to approximately 309 million. This demonstrates that adjustments in influential features can have a notable impact on projected revenue, aligning with the findings from `SelectKBest`.\n",
    "> - The **ROI** increases from **0.50** to **0.59**, suggesting that strategic changes in high-impact features might edge a project closer to financial viability, although in this case, it does not meet the typical success threshold of ROI ≥ 1.\n",
    "> - The `success_failure` metric remains 0, indicating that while the modifications positively affect revenue, they are insufficient to transition this particular movie to a \"success\" classification under the model’s criteria.\n",
    "> - This analysis confirms that targeted feature modifications can yield revenue improvements, but significant shifts in success probability may require a broader or more substantial enhancement of top features, such as larger-scale changes in budget or casting significant names."
   ]
  }
 ],
 "metadata": {
  "kernelspec": {
   "display_name": "Python 3",
   "language": "python",
   "name": "python3"
  },
  "language_info": {
   "codemirror_mode": {
    "name": "ipython",
    "version": 3
   },
   "file_extension": ".py",
   "mimetype": "text/x-python",
   "name": "python",
   "nbconvert_exporter": "python",
   "pygments_lexer": "ipython3",
   "version": "3.11.5"
  }
 },
 "nbformat": 4,
 "nbformat_minor": 2
}
